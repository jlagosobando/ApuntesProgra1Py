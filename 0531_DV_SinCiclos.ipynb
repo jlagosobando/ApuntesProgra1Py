{
  "nbformat": 4,
  "nbformat_minor": 0,
  "metadata": {
    "colab": {
      "name": "Untitled4.ipynb",
      "provenance": [],
      "authorship_tag": "ABX9TyOaeAivr2F7Qk97ahebU0xr",
      "include_colab_link": true
    },
    "kernelspec": {
      "name": "python3",
      "display_name": "Python 3"
    },
    "language_info": {
      "name": "python"
    }
  },
  "cells": [
    {
      "cell_type": "markdown",
      "metadata": {
        "id": "view-in-github",
        "colab_type": "text"
      },
      "source": [
        "<a href=\"https://colab.research.google.com/github/jlagosobando/ApuntesProgra1Py/blob/master/0531_DV_SinCiclos.ipynb\" target=\"_parent\"><img src=\"https://colab.research.google.com/assets/colab-badge.svg\" alt=\"Open In Colab\"/></a>"
      ]
    },
    {
      "cell_type": "markdown",
      "metadata": {
        "id": "EhgDaD4voH6g"
      },
      "source": [
        "Versión para calcular el DV de un run chileno, sin usar ciclos. Restricción: Solo funciona con run de 8 digitos\n",
        "\n"
      ]
    },
    {
      "cell_type": "code",
      "metadata": {
        "colab": {
          "base_uri": "https://localhost:8080/"
        },
        "id": "MDVbs-b7oJC3",
        "outputId": "d5d96013-7db0-46b7-eea2-da2a4c5b5db8"
      },
      "source": [
        "#rut, d1,d2,d3,d4,d5,d6,d7,d8,s,res :entero\n",
        "#DV texto;\n",
        "#Escribir \"ingrese su rut\"\n",
        "print(\"ingresar rut con 8 dígitos\")\n",
        "#Leer rut\n",
        "rut=(int)(input())\n",
        "\n",
        "d1=rut%10\n",
        "rut=rut//10\n",
        "\n",
        "d2=rut%10\n",
        "rut=rut//10\n",
        "\n",
        "d3=rut%10\n",
        "rut=rut//10\n",
        "\n",
        "d4=rut%10\n",
        "rut=rut//10\n",
        "\n",
        "d5=rut%10\n",
        "rut=rut//10\n",
        "\n",
        "d6=rut%10\n",
        "rut=rut//10\n",
        "\n",
        "d7=rut%10\n",
        "rut=rut//10\n",
        "\n",
        "d8=rut%10\n",
        "rut=rut//10\n",
        "\n",
        "#cada ( ) es un \"m\" del árbol\n",
        "s=(d1*2)+(d2*3)+(d3*4)+(d4*5)+(d5*6)+(d6*7)+(d7*2)+(d8*3)\n",
        "\n",
        "s=s%11\n",
        "res=11-s\n",
        "\n",
        "if(res>=0&res<=9):\n",
        "  DV=res\n",
        "if(res==10):\n",
        "  DV=\"K\"\n",
        "if(res==11):\n",
        "  DV=0\n",
        "\n",
        "#\tEscribir \"su DV es: \",DV\n",
        "print(\"su DV es\",DV)"
      ],
      "execution_count": 1,
      "outputs": [
        {
          "output_type": "stream",
          "text": [
            "ingresar rut con 8 dígitos\n",
            "30911716\n",
            "su DV es 6\n"
          ],
          "name": "stdout"
        }
      ]
    }
  ]
}