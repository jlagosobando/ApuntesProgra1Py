{
  "nbformat": 4,
  "nbformat_minor": 0,
  "metadata": {
    "colab": {
      "name": "calcDV.ipynb",
      "provenance": [],
      "authorship_tag": "ABX9TyMBu9vjF3ILss2oLOoO8AqY",
      "include_colab_link": true
    },
    "kernelspec": {
      "name": "python3",
      "display_name": "Python 3"
    },
    "language_info": {
      "name": "python"
    }
  },
  "cells": [
    {
      "cell_type": "markdown",
      "metadata": {
        "id": "view-in-github",
        "colab_type": "text"
      },
      "source": [
        "<a href=\"https://colab.research.google.com/github/jlagosobando/ApuntesProgra1Py/blob/master/calcDV.ipynb\" target=\"_parent\"><img src=\"https://colab.research.google.com/assets/colab-badge.svg\" alt=\"Open In Colab\"/></a>"
      ]
    },
    {
      "cell_type": "code",
      "execution_count": null,
      "metadata": {
        "colab": {
          "base_uri": "https://localhost:8080/"
        },
        "id": "2PLdsYfNAaWq",
        "outputId": "cc3a890b-d9be-4a36-f964-bac7b495d0dc"
      },
      "outputs": [
        {
          "output_type": "stream",
          "name": "stdout",
          "text": [
            "ingrese su rut sin dv\n",
            "hfigk\n",
            "por favor ingrese un valor adecuado\n",
            "ingrese su rut sin dv\n",
            "-5\n",
            "ingrese su rut sin dv\n",
            "fyufhfy\n",
            "por favor ingrese un valor adecuado\n",
            "ingrese su rut sin dv\n",
            "87912900\n",
            "Su dv es 1\n"
          ]
        }
      ],
      "source": [
        "# num, rut, f : enteros\n",
        "# 87912900 dv=1\n",
        "num=0\n",
        "f=2\n",
        "rut=-1\n",
        "while(rut<0):\n",
        "  print(\"ingrese su rut sin dv\")\n",
        "  try:\n",
        "    rut=int(input())\n",
        "  except:\n",
        "    print(\"por favor ingrese un valor adecuado\")\n",
        "\n",
        "while(rut>0):\n",
        "  digito=rut%10\n",
        "  rut=rut//10\n",
        "\n",
        "  m=digito*f\n",
        "  f=f+1\n",
        "\n",
        "  if(f>7):\n",
        "    f=2\n",
        "  \n",
        "  num=num+m\n",
        "\n",
        "num=num%11\n",
        "num=11-num\n",
        "\n",
        "if(num<10):\n",
        "  DV=num\n",
        "elif(num==10):\n",
        "  DV=\"K\"\n",
        "elif(num==11):\n",
        "  DV=0\n",
        "else:\n",
        "  print(\"algo raro pasó\")\n",
        "\n",
        "print(\"Su dv es\",DV)"
      ]
    }
  ]
}