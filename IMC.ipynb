{
  "nbformat": 4,
  "nbformat_minor": 0,
  "metadata": {
    "colab": {
      "name": "IMC.ipynb",
      "provenance": [],
      "collapsed_sections": [],
      "authorship_tag": "ABX9TyNmyUGf46dMrNhcjDyPhC1b",
      "include_colab_link": true
    },
    "kernelspec": {
      "name": "python3",
      "display_name": "Python 3"
    },
    "language_info": {
      "name": "python"
    }
  },
  "cells": [
    {
      "cell_type": "markdown",
      "metadata": {
        "id": "view-in-github",
        "colab_type": "text"
      },
      "source": [
        "<a href=\"https://colab.research.google.com/github/jlagosobando/ApuntesProgra1Py/blob/master/IMC.ipynb\" target=\"_parent\"><img src=\"https://colab.research.google.com/assets/colab-badge.svg\" alt=\"Open In Colab\"/></a>"
      ]
    },
    {
      "cell_type": "code",
      "execution_count": 2,
      "metadata": {
        "colab": {
          "base_uri": "https://localhost:8080/"
        },
        "id": "8tX6QtTItmHY",
        "outputId": "feacd955-4503-4f01-a479-5a1acb0091a9"
      },
      "outputs": [
        {
          "output_type": "stream",
          "name": "stdout",
          "text": [
            "ingrese su estatura en metros\n",
            "1.6\n",
            "ingrese su peso en kilos\n",
            "130\n",
            "su imc es 50.78124999999999\n",
            "está en obesidad4\n"
          ]
        }
      ],
      "source": [
        "# peso, estatura :Decimal\n",
        "\n",
        "print(\"ingrese su estatura en metros\")\n",
        "estatura=float(input())\n",
        "\n",
        "print(\"ingrese su peso en kilos\")\n",
        "peso=float(input())\n",
        "\n",
        "imc= peso/(estatura**2)\n",
        "\n",
        "print(\"su imc es\",imc)\n",
        "\n",
        "if(imc<18.5):\n",
        "  print(\"está en bajo peso\")\n",
        "elif(imc>=18.5 and imc<=24.9):\n",
        "  print(\"está en peso normal\")\n",
        "elif(imc>=25 and imc<=29.9):\n",
        "  print(\"está en sobrepeso\")\n",
        "elif(imc>=30 and imc<=34.9):\n",
        "  print(\"está en obesidad1\")\n",
        "elif(imc>=35 and imc<=39.9):\n",
        "  print(\"está en obesidad2\")\n",
        "elif(imc>=40 and imc<=49.9):\n",
        "  print(\"está en obesidad3\")\n",
        "else:\n",
        "  print(\"está en obesidad4\")"
      ]
    }
  ]
}