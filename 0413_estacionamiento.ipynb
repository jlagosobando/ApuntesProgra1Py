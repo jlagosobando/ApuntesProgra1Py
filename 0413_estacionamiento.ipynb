{
  "nbformat": 4,
  "nbformat_minor": 0,
  "metadata": {
    "colab": {
      "name": "0413_estacionamiento.ipynb",
      "provenance": [],
      "authorship_tag": "ABX9TyN8Bf46T8FYEI/0TBwrLIQp",
      "include_colab_link": true
    },
    "kernelspec": {
      "name": "python3",
      "display_name": "Python 3"
    },
    "language_info": {
      "name": "python"
    }
  },
  "cells": [
    {
      "cell_type": "markdown",
      "metadata": {
        "id": "view-in-github",
        "colab_type": "text"
      },
      "source": [
        "<a href=\"https://colab.research.google.com/github/jlagosobando/ApuntesProgra1Py/blob/master/0413_estacionamiento.ipynb\" target=\"_parent\"><img src=\"https://colab.research.google.com/assets/colab-badge.svg\" alt=\"Open In Colab\"/></a>"
      ]
    },
    {
      "cell_type": "code",
      "metadata": {
        "colab": {
          "base_uri": "https://localhost:8080/"
        },
        "id": "7ceJAjQOyaT4",
        "outputId": "f25be748-b1c1-4f39-ed33-552dd5d5b025"
      },
      "source": [
        "#precio=600, base=500, cobro :entero\n",
        "#hora :decimal\n",
        "\n",
        "precio=600\n",
        "base=500\n",
        "\n",
        "print(\"ingrese cuanto tiempo estuvo en horas\")\n",
        "hora=float(input())\n",
        "\n",
        "cobro=int((hora*precio)+base)\n",
        "\n",
        "print(\"Debe pagar\", cobro)\n",
        "\n"
      ],
      "execution_count": null,
      "outputs": [
        {
          "output_type": "stream",
          "text": [
            "ingrese cuanto tiempo estuvo en horas\n",
            "1.256\n",
            "Debe pagar 1253\n"
          ],
          "name": "stdout"
        }
      ]
    }
  ]
}