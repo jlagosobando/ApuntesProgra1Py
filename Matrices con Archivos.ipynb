{
  "nbformat": 4,
  "nbformat_minor": 0,
  "metadata": {
    "colab": {
      "name": "Untitled1.ipynb",
      "provenance": []
    },
    "kernelspec": {
      "name": "python3",
      "display_name": "Python 3"
    }
  },
  "cells": [
    {
      "cell_type": "markdown",
      "metadata": {
        "id": "MJZus74cxmJo",
        "colab_type": "text"
      },
      "source": [
        "Guarda un arreglo de números en archivo, luego lo recupera"
      ]
    },
    {
      "cell_type": "code",
      "metadata": {
        "id": "5KDKHbfSwzmP",
        "colab_type": "code",
        "colab": {}
      },
      "source": [
        "#declara matriz\n",
        "\n",
        "aB=[[1,0,3],[6,4,2]]\n",
        "filas=len(aB)\n",
        "colum=len(aB[0])"
      ],
      "execution_count": 31,
      "outputs": []
    },
    {
      "cell_type": "code",
      "metadata": {
        "id": "0TUD-WcMxNQ7",
        "colab_type": "code",
        "colab": {
          "base_uri": "https://localhost:8080/",
          "height": 34
        },
        "outputId": "f0a2508d-7570-4844-bdb4-0a7a765f1588"
      },
      "source": [
        "#guarda matriz en archivo\n",
        "\n",
        "f=open(\"archivo.txt\",\"w\")\n",
        "#guarda metadata de la matriz para luego cargarla\n",
        "f.write(str(filas)+\"\\n\") \n",
        "f.write(str(colum)+\"\\n\")\n",
        "#guarda data\n",
        "for e in range(len(aB)):\n",
        "    for i in range(len(aB[e])):\n",
        "        f.write(str(aB[e][i])+\"\\n\")\n",
        "f.close()\n",
        "print(aB)"
      ],
      "execution_count": 32,
      "outputs": [
        {
          "output_type": "stream",
          "text": [
            "[[1, 0, 3], [6, 4, 2]]\n"
          ],
          "name": "stdout"
        }
      ]
    },
    {
      "cell_type": "code",
      "metadata": {
        "id": "D16p3NOwxRxW",
        "colab_type": "code",
        "colab": {
          "base_uri": "https://localhost:8080/",
          "height": 34
        },
        "outputId": "405b580e-8452-4816-a54c-3bceec14bbb2"
      },
      "source": [
        "#la estrategia para cargar datos del archivo a la matriz\n",
        "\n",
        "f=open(\"archivo.txt\",\"r\")\n",
        "#carga metadata\n",
        "fil=int(f.readline().strip())\n",
        "col=int(f.readline().strip())\n",
        "#carga data\n",
        "aD=[ [ int(f.readline().strip()) for y in range(col) ] for x in range(fil) ]\n",
        "print(aD)\n",
        "f.close()"
      ],
      "execution_count": 33,
      "outputs": [
        {
          "output_type": "stream",
          "text": [
            "[[1, 0, 3], [6, 4, 2]]\n"
          ],
          "name": "stdout"
        }
      ]
    },
    {
      "cell_type": "markdown",
      "metadata": {
        "colab_type": "text",
        "id": "8-w5tZRJy4zF"
      },
      "source": [
        "Guarda un arreglo de textos en archivo, luego lo recupera"
      ]
    },
    {
      "cell_type": "code",
      "metadata": {
        "id": "DGp4LPVtyzUf",
        "colab_type": "code",
        "colab": {}
      },
      "source": [
        "#declara matriz\n",
        "\n",
        "aT=[[\"a\",\"b\",\"c\"],[\"d\",\"e\",\"f\"]]\n",
        "filas=len(aT)\n",
        "colum=len(aT[0])"
      ],
      "execution_count": 30,
      "outputs": []
    },
    {
      "cell_type": "code",
      "metadata": {
        "id": "1YA3kX7Lzzol",
        "colab_type": "code",
        "colab": {
          "base_uri": "https://localhost:8080/",
          "height": 34
        },
        "outputId": "d79d53c7-2236-4c7a-e2df-68585e1857d9"
      },
      "source": [
        "#guarda matriz en archivo\n",
        "\n",
        "f=open(\"archivo2.txt\",\"w\")\n",
        "#guarda metadata de la matriz para luego cargarla\n",
        "f.write(str(filas)+\"\\n\") \n",
        "f.write(str(colum)+\"\\n\")\n",
        "#guarda data\n",
        "for e in range(len(aT)):\n",
        "    for i in range(len(aT[e])):\n",
        "        f.write(str(aT[e][i])+\"\\n\")\n",
        "f.close()\n",
        "print(aT)"
      ],
      "execution_count": 34,
      "outputs": [
        {
          "output_type": "stream",
          "text": [
            "[['a', 'b', 'c'], ['d', 'e', 'f']]\n"
          ],
          "name": "stdout"
        }
      ]
    },
    {
      "cell_type": "code",
      "metadata": {
        "id": "ouHDp42MzKaU",
        "colab_type": "code",
        "colab": {
          "base_uri": "https://localhost:8080/",
          "height": 34
        },
        "outputId": "68596c22-7442-41a0-a086-0c589cea1a02"
      },
      "source": [
        "#la estrategia para cargar datos del archivo a la matriz\n",
        "\n",
        "f=open(\"archivo2.txt\",\"r\")\n",
        "#guarda metadata de la matriz para luego cargarla\n",
        "fil=int(f.readline().strip())\n",
        "col=int(f.readline().strip())\n",
        "#guarda data\n",
        "aD=[ [(f.readline().strip()) for y in range(col) ] for x in range(fil) ]\n",
        "print(aD)\n",
        "f.close()"
      ],
      "execution_count": 37,
      "outputs": [
        {
          "output_type": "stream",
          "text": [
            "[['a', 'b', 'c'], ['d', 'e', 'f']]\n"
          ],
          "name": "stdout"
        }
      ]
    }
  ]
}