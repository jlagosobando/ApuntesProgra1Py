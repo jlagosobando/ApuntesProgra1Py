{
  "nbformat": 4,
  "nbformat_minor": 0,
  "metadata": {
    "colab": {
      "name": "DV_SinCiclos.ipynb",
      "provenance": [],
      "collapsed_sections": []
    },
    "kernelspec": {
      "name": "python3",
      "display_name": "Python 3"
    }
  },
  "cells": [
    {
      "cell_type": "markdown",
      "metadata": {
        "id": "KH3211z4lL9J",
        "colab_type": "text"
      },
      "source": [
        "Versión para calcular el DV de un run chileno, sin usar ciclos.\n",
        "Restricción: Solo funciona con run de 8 digitos"
      ]
    },
    {
      "cell_type": "code",
      "metadata": {
        "id": "8l8IynkCSIYj",
        "colab_type": "code",
        "outputId": "4e9a3a5c-bc88-40ff-ed62-df7daec384ce",
        "colab": {
          "base_uri": "https://localhost:8080/",
          "height": 67
        }
      },
      "source": [
        "#rut, d1,d2,d3,d4,d5,d6,d7,d8,s,res :entero\n",
        "#DV texto;\n",
        "#Escribir \"ingrese su rut\"\n",
        "print(\"ingresar rut con 8 dígitos\")\n",
        "#Leer rut\n",
        "rut=(int)(input())\n",
        "\n",
        "d1=rut%10\n",
        "rut=rut//10\n",
        "\n",
        "d2=rut%10\n",
        "rut=rut//10\n",
        "\n",
        "d3=rut%10\n",
        "rut=rut//10\n",
        "\n",
        "d4=rut%10\n",
        "rut=rut//10\n",
        "\n",
        "d5=rut%10\n",
        "rut=rut//10\n",
        "\n",
        "d6=rut%10\n",
        "rut=rut//10\n",
        "\n",
        "d7=rut%10\n",
        "rut=rut//10\n",
        "\n",
        "d8=rut%10\n",
        "rut=rut//10\n",
        "\n",
        "#cada ( ) es un \"m\" del árbol\n",
        "s=(d1*2)+(d2*3)+(d3*4)+(d4*5)+(d5*6)+(d6*7)+(d7*2)+(d8*3)\n",
        "\n",
        "s=s%11\n",
        "res=11-s\n",
        "\n",
        "if(res>=0&res<=9):\n",
        "  DV=res\n",
        "if(res==10):\n",
        "  DV=\"K\"\n",
        "if(res==11):\n",
        "  DV=0\n",
        "\n",
        "#\tEscribir \"su DV es: \",DV\n",
        "print(\"su DV es\",DV)\n",
        "\n"
      ],
      "execution_count": 11,
      "outputs": [
        {
          "output_type": "stream",
          "text": [
            "ingresar rut con 8 dígitos\n",
            "71918700\n",
            "su DV es 5\n"
          ],
          "name": "stdout"
        }
      ]
    }
  ]
}
