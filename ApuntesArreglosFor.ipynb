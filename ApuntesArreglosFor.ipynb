{
  "nbformat": 4,
  "nbformat_minor": 0,
  "metadata": {
    "colab": {
      "name": "Untitled7.ipynb",
      "provenance": []
    },
    "kernelspec": {
      "name": "python3",
      "display_name": "Python 3"
    }
  },
  "cells": [
    {
      "cell_type": "markdown",
      "metadata": {
        "id": "VSSCrasjnjnB",
        "colab_type": "text"
      },
      "source": [
        "Apuntes de Arreglos y Ciclo FOR"
      ]
    },
    {
      "cell_type": "code",
      "metadata": {
        "id": "K0l0iurk52Yn",
        "colab_type": "code",
        "colab": {}
      },
      "source": [
        "art_lib=[\"cuaderno\",\"goma\",\"carpeta\"]"
      ],
      "execution_count": 1,
      "outputs": []
    },
    {
      "cell_type": "code",
      "metadata": {
        "id": "BrRettPv6Naa",
        "colab_type": "code",
        "colab": {
          "base_uri": "https://localhost:8080/",
          "height": 34
        },
        "outputId": "8bd31f47-9201-4d4a-8dc6-04d42ef58cb0"
      },
      "source": [
        "print(art_lib)"
      ],
      "execution_count": 2,
      "outputs": [
        {
          "output_type": "stream",
          "text": [
            "['cuaderno', 'goma', 'carpeta']\n"
          ],
          "name": "stdout"
        }
      ]
    },
    {
      "cell_type": "code",
      "metadata": {
        "id": "HYjGR-wm6ZKV",
        "colab_type": "code",
        "colab": {}
      },
      "source": [
        "n_primos=[1,3,5,7,11]"
      ],
      "execution_count": 4,
      "outputs": []
    },
    {
      "cell_type": "code",
      "metadata": {
        "id": "KsM-PQm16iR0",
        "colab_type": "code",
        "colab": {
          "base_uri": "https://localhost:8080/",
          "height": 34
        },
        "outputId": "7f15ba3b-b7bf-4158-ab75-7814929bfc6a"
      },
      "source": [
        "n_primos\n"
      ],
      "execution_count": 5,
      "outputs": [
        {
          "output_type": "execute_result",
          "data": {
            "text/plain": [
              "[1, 3, 5, 7, 11]"
            ]
          },
          "metadata": {
            "tags": []
          },
          "execution_count": 5
        }
      ]
    },
    {
      "cell_type": "code",
      "metadata": {
        "id": "pSc1flm06r2a",
        "colab_type": "code",
        "colab": {}
      },
      "source": [
        "aprobados=[]"
      ],
      "execution_count": 6,
      "outputs": []
    },
    {
      "cell_type": "code",
      "metadata": {
        "id": "wvP0iSmq6ysV",
        "colab_type": "code",
        "colab": {
          "base_uri": "https://localhost:8080/",
          "height": 34
        },
        "outputId": "943ace33-64b3-4396-fb36-9577db5ac58f"
      },
      "source": [
        "aprobados"
      ],
      "execution_count": 7,
      "outputs": [
        {
          "output_type": "execute_result",
          "data": {
            "text/plain": [
              "[]"
            ]
          },
          "metadata": {
            "tags": []
          },
          "execution_count": 7
        }
      ]
    },
    {
      "cell_type": "code",
      "metadata": {
        "id": "7dExUVCz6yRr",
        "colab_type": "code",
        "colab": {}
      },
      "source": [
        "rep=[5]*10"
      ],
      "execution_count": 12,
      "outputs": []
    },
    {
      "cell_type": "code",
      "metadata": {
        "id": "mhirPwdm7SCP",
        "colab_type": "code",
        "colab": {
          "base_uri": "https://localhost:8080/",
          "height": 34
        },
        "outputId": "09c6bc94-e5db-4f0d-9d94-d6293033168c"
      },
      "source": [
        "rep"
      ],
      "execution_count": 13,
      "outputs": [
        {
          "output_type": "execute_result",
          "data": {
            "text/plain": [
              "[5, 5, 5, 5, 5, 5, 5, 5, 5, 5]"
            ]
          },
          "metadata": {
            "tags": []
          },
          "execution_count": 13
        }
      ]
    },
    {
      "cell_type": "code",
      "metadata": {
        "id": "UCH2MgAh7vi1",
        "colab_type": "code",
        "colab": {}
      },
      "source": [
        "resu=rep[0]*4"
      ],
      "execution_count": 14,
      "outputs": []
    },
    {
      "cell_type": "code",
      "metadata": {
        "id": "kpEUNz0k756h",
        "colab_type": "code",
        "colab": {
          "base_uri": "https://localhost:8080/",
          "height": 34
        },
        "outputId": "32b72e61-c230-49fe-9855-83dc9d01e90e"
      },
      "source": [
        "resu"
      ],
      "execution_count": 15,
      "outputs": [
        {
          "output_type": "execute_result",
          "data": {
            "text/plain": [
              "20"
            ]
          },
          "metadata": {
            "tags": []
          },
          "execution_count": 15
        }
      ]
    },
    {
      "cell_type": "code",
      "metadata": {
        "id": "6wE4qq3983Qj",
        "colab_type": "code",
        "colab": {
          "base_uri": "https://localhost:8080/",
          "height": 34
        },
        "outputId": "211f35c2-09a8-45c7-f59d-9cf42eff8394"
      },
      "source": [
        "#Medir el largo: len(arreglo) \n",
        "len(n_primos)"
      ],
      "execution_count": 17,
      "outputs": [
        {
          "output_type": "execute_result",
          "data": {
            "text/plain": [
              "5"
            ]
          },
          "metadata": {
            "tags": []
          },
          "execution_count": 17
        }
      ]
    },
    {
      "cell_type": "code",
      "metadata": {
        "id": "Yay46huq9TLx",
        "colab_type": "code",
        "colab": {
          "base_uri": "https://localhost:8080/",
          "height": 34
        },
        "outputId": "f2df09af-28c8-4a48-e0b1-f039709bed3f"
      },
      "source": [
        "#Detectar el valor mínimo: min(arreglo)\n",
        "min(n_primos)"
      ],
      "execution_count": 19,
      "outputs": [
        {
          "output_type": "execute_result",
          "data": {
            "text/plain": [
              "1"
            ]
          },
          "metadata": {
            "tags": []
          },
          "execution_count": 19
        }
      ]
    },
    {
      "cell_type": "code",
      "metadata": {
        "id": "oCK6R9f29qUV",
        "colab_type": "code",
        "colab": {
          "base_uri": "https://localhost:8080/",
          "height": 34
        },
        "outputId": "bc4b354f-dcc6-41fc-f618-6074fc767e4b"
      },
      "source": [
        "#O máximo del arreglo:\t\t\t\tmax(arreglo)\n",
        "max(art_lib)"
      ],
      "execution_count": 21,
      "outputs": [
        {
          "output_type": "execute_result",
          "data": {
            "application/vnd.google.colaboratory.intrinsic": {
              "type": "string"
            },
            "text/plain": [
              "'goma'"
            ]
          },
          "metadata": {
            "tags": []
          },
          "execution_count": 21
        }
      ]
    },
    {
      "cell_type": "code",
      "metadata": {
        "id": "qnjAI2xs-G4s",
        "colab_type": "code",
        "colab": {}
      },
      "source": [
        "#Añadir un elemento a un arreglo: \t\t\tarreglo.append(elemento)\n",
        "aprobados.append(\"Juan Lagos\")"
      ],
      "execution_count": 22,
      "outputs": []
    },
    {
      "cell_type": "code",
      "metadata": {
        "id": "Nq4gU2Vz-fnb",
        "colab_type": "code",
        "colab": {}
      },
      "source": [
        "aprobados.append(\"Juan Perez\")"
      ],
      "execution_count": 24,
      "outputs": []
    },
    {
      "cell_type": "code",
      "metadata": {
        "id": "4ptP5X_d-rRX",
        "colab_type": "code",
        "colab": {
          "base_uri": "https://localhost:8080/",
          "height": 34
        },
        "outputId": "7cb136ac-403a-4598-e9c7-42be1986a7b1"
      },
      "source": [
        "aprobados"
      ],
      "execution_count": 25,
      "outputs": [
        {
          "output_type": "execute_result",
          "data": {
            "text/plain": [
              "['Juan Lagos', 'Juan Perez']"
            ]
          },
          "metadata": {
            "tags": []
          },
          "execution_count": 25
        }
      ]
    },
    {
      "cell_type": "code",
      "metadata": {
        "id": "Vkm90s5d-04f",
        "colab_type": "code",
        "colab": {}
      },
      "source": [
        "#contar cuantos de un elemento hay:\t\tarreglo.count(elemento)\n",
        "marcas=[\"kia\",\"nissan\",\"kia\",\"chrevy\",\"kia\",\"jac\",\"chery\",\"kia\",\"jac\",\"Kia\"]\n"
      ],
      "execution_count": 28,
      "outputs": []
    },
    {
      "cell_type": "code",
      "metadata": {
        "id": "658QWK01_UFQ",
        "colab_type": "code",
        "colab": {
          "base_uri": "https://localhost:8080/",
          "height": 34
        },
        "outputId": "704b9bbb-67ab-480d-87e7-0abf1e52cb3d"
      },
      "source": [
        "marcas.count(\"Jac\")"
      ],
      "execution_count": 32,
      "outputs": [
        {
          "output_type": "execute_result",
          "data": {
            "text/plain": [
              "0"
            ]
          },
          "metadata": {
            "tags": []
          },
          "execution_count": 32
        }
      ]
    },
    {
      "cell_type": "code",
      "metadata": {
        "id": "Hlw95H8y_8qD",
        "colab_type": "code",
        "colab": {}
      },
      "source": [
        "#Insertar un elemento en un índice:\t\tarreglo.insert(índice, elemento)\n",
        "marcas.insert(0,\"suzuki\")"
      ],
      "execution_count": 33,
      "outputs": []
    },
    {
      "cell_type": "code",
      "metadata": {
        "id": "or3QMU_lAexK",
        "colab_type": "code",
        "colab": {}
      },
      "source": [
        "marcas.insert(5,\"chevrolet\")\n",
        "marcas.insert(15,\"fiat\")\n"
      ],
      "execution_count": 35,
      "outputs": []
    },
    {
      "cell_type": "code",
      "metadata": {
        "id": "1gec1KBlA7Ey",
        "colab_type": "code",
        "colab": {
          "base_uri": "https://localhost:8080/",
          "height": 242
        },
        "outputId": "fac0a395-d72e-4a14-d17b-a610215ece40"
      },
      "source": [
        "marcas"
      ],
      "execution_count": 36,
      "outputs": [
        {
          "output_type": "execute_result",
          "data": {
            "text/plain": [
              "['suzuki',\n",
              " 'kia',\n",
              " 'nissan',\n",
              " 'kia',\n",
              " 'chrevy',\n",
              " 'chevrolet',\n",
              " 'kia',\n",
              " 'jac',\n",
              " 'chery',\n",
              " 'kia',\n",
              " 'jac',\n",
              " 'Kia',\n",
              " 'fiat']"
            ]
          },
          "metadata": {
            "tags": []
          },
          "execution_count": 36
        }
      ]
    },
    {
      "cell_type": "code",
      "metadata": {
        "id": "yruzlUGPA6hI",
        "colab_type": "code",
        "colab": {}
      },
      "source": [
        "#Elimina el primer hallazgo de un elemento: \tarreglo.remove(elemento)\n",
        "marcas.remove(\"Kia\")"
      ],
      "execution_count": 40,
      "outputs": []
    },
    {
      "cell_type": "code",
      "metadata": {
        "id": "KiKBJiJLBqDj",
        "colab_type": "code",
        "colab": {
          "base_uri": "https://localhost:8080/",
          "height": 207
        },
        "outputId": "b767d1df-3309-45c2-c8b9-2d4ee0ee7216"
      },
      "source": [
        "marcas"
      ],
      "execution_count": 41,
      "outputs": [
        {
          "output_type": "execute_result",
          "data": {
            "text/plain": [
              "['suzuki',\n",
              " 'nissan',\n",
              " 'kia',\n",
              " 'chrevy',\n",
              " 'chevrolet',\n",
              " 'kia',\n",
              " 'jac',\n",
              " 'chery',\n",
              " 'kia',\n",
              " 'jac',\n",
              " 'fiat']"
            ]
          },
          "metadata": {
            "tags": []
          },
          "execution_count": 41
        }
      ]
    },
    {
      "cell_type": "code",
      "metadata": {
        "id": "t_MzJSvoB42-",
        "colab_type": "code",
        "colab": {}
      },
      "source": [
        "#Eliminar una casilla y su valor:\t\t\tdel arreglo[índice]\n",
        "del marcas[3]"
      ],
      "execution_count": 42,
      "outputs": []
    },
    {
      "cell_type": "code",
      "metadata": {
        "id": "DFoGkPpXCIo6",
        "colab_type": "code",
        "colab": {
          "base_uri": "https://localhost:8080/",
          "height": 190
        },
        "outputId": "f31cc20e-b6bf-4a22-d8d8-10c21900e19a"
      },
      "source": [
        "marcas"
      ],
      "execution_count": 43,
      "outputs": [
        {
          "output_type": "execute_result",
          "data": {
            "text/plain": [
              "['suzuki',\n",
              " 'nissan',\n",
              " 'kia',\n",
              " 'chevrolet',\n",
              " 'kia',\n",
              " 'jac',\n",
              " 'chery',\n",
              " 'kia',\n",
              " 'jac',\n",
              " 'fiat']"
            ]
          },
          "metadata": {
            "tags": []
          },
          "execution_count": 43
        }
      ]
    },
    {
      "cell_type": "code",
      "metadata": {
        "id": "ThqqURBuCUOh",
        "colab_type": "code",
        "colab": {}
      },
      "source": [
        "#Reemplazar un valor dado el índice:\t\tarreglo[índice]=elemento\n",
        "marcas[6]=\"chevy\""
      ],
      "execution_count": 44,
      "outputs": []
    },
    {
      "cell_type": "code",
      "metadata": {
        "id": "1aYBiS8ZDGmV",
        "colab_type": "code",
        "colab": {
          "base_uri": "https://localhost:8080/",
          "height": 190
        },
        "outputId": "4f6369de-7aa3-4c63-f332-2c49135e8f16"
      },
      "source": [
        "marcas"
      ],
      "execution_count": 47,
      "outputs": [
        {
          "output_type": "execute_result",
          "data": {
            "text/plain": [
              "['suzuki',\n",
              " 'nissan',\n",
              " 'kia',\n",
              " 'chevrolet',\n",
              " 'kia',\n",
              " 'jac',\n",
              " 'chevy',\n",
              " 'kia',\n",
              " 'jac',\n",
              " 'fiat']"
            ]
          },
          "metadata": {
            "tags": []
          },
          "execution_count": 47
        }
      ]
    },
    {
      "cell_type": "code",
      "metadata": {
        "id": "R8M_UvDbENK3",
        "colab_type": "code",
        "colab": {
          "base_uri": "https://localhost:8080/",
          "height": 104
        },
        "outputId": "2e384583-fe45-418a-c7f6-75841e4b608f"
      },
      "source": [
        "for i in range(5):\n",
        "  print(i)"
      ],
      "execution_count": 48,
      "outputs": [
        {
          "output_type": "stream",
          "text": [
            "0\n",
            "1\n",
            "2\n",
            "3\n",
            "4\n"
          ],
          "name": "stdout"
        }
      ]
    },
    {
      "cell_type": "code",
      "metadata": {
        "id": "jrwSmL1yEU7w",
        "colab_type": "code",
        "colab": {
          "base_uri": "https://localhost:8080/",
          "height": 207
        },
        "outputId": "8d96c0b5-4b1c-416f-a89c-17a8b432c728"
      },
      "source": [
        "nmes=30\n",
        "for i in range(20,nmes+1):\n",
        "  print(i)"
      ],
      "execution_count": 52,
      "outputs": [
        {
          "output_type": "stream",
          "text": [
            "20\n",
            "21\n",
            "22\n",
            "23\n",
            "24\n",
            "25\n",
            "26\n",
            "27\n",
            "28\n",
            "29\n",
            "30\n"
          ],
          "name": "stdout"
        }
      ]
    },
    {
      "cell_type": "code",
      "metadata": {
        "id": "YE-rWIw9Ej6H",
        "colab_type": "code",
        "colab": {
          "base_uri": "https://localhost:8080/",
          "height": 190
        },
        "outputId": "bde7cb10-3872-4708-c2d5-8ac52879a52e"
      },
      "source": [
        "for elemento in marcas:\n",
        "  print(elemento)"
      ],
      "execution_count": 50,
      "outputs": [
        {
          "output_type": "stream",
          "text": [
            "suzuki\n",
            "nissan\n",
            "kia\n",
            "chevrolet\n",
            "kia\n",
            "jac\n",
            "chevy\n",
            "kia\n",
            "jac\n",
            "fiat\n"
          ],
          "name": "stdout"
        }
      ]
    },
    {
      "cell_type": "code",
      "metadata": {
        "id": "GZTeV5DtFHJh",
        "colab_type": "code",
        "colab": {
          "base_uri": "https://localhost:8080/",
          "height": 104
        },
        "outputId": "1a7b03a9-7d7f-4b02-cb72-60b03ec32ff9"
      },
      "source": [
        "for elemento in n_primos:\n",
        "  print(elemento,\" - \",elemento*2)"
      ],
      "execution_count": 51,
      "outputs": [
        {
          "output_type": "stream",
          "text": [
            "1  -  2\n",
            "3  -  6\n",
            "5  -  10\n",
            "7  -  14\n",
            "11  -  22\n"
          ],
          "name": "stdout"
        }
      ]
    }
  ]
}