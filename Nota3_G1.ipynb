{
  "nbformat": 4,
  "nbformat_minor": 0,
  "metadata": {
    "colab": {
      "name": "Nota3-G1.ipynb",
      "provenance": [],
      "collapsed_sections": []
    },
    "kernelspec": {
      "name": "python3",
      "display_name": "Python 3"
    }
  },
  "cells": [
    {
      "cell_type": "markdown",
      "metadata": {
        "id": "LUWXQRkBkyqY",
        "colab_type": "text"
      },
      "source": [
        "En una empresa panificadora, se tiene una receta base para su operación diaria en la producción de pan. Con esa receta, cada día deben calcular la cantidad de ingredientes que usaran, para ello se guían por la cantidad de harina que disponen en esa jornada. Para el caso anterior, diseñe un algoritmo al cual, dando la cantidad de harina disponible (en kilogramos), entregue los demás ingredientes de la receta necesarios para la cantidad de harina ingresada.\n",
        "\n",
        "Receta:\n",
        "\n",
        "*500 gramos de harina\n",
        "*275ml de agua\n",
        "*7 gramos de levadura\n",
        "*1 cucharadita de azúcar\n",
        "*1,5 cucharadita de sal\n",
        "*50 gramos de manteca"
      ]
    },
    {
      "cell_type": "code",
      "metadata": {
        "id": "p_fV36hAktxa",
        "colab_type": "code",
        "outputId": "807e8413-0e9f-4586-feb1-72289a57efa8",
        "colab": {
          "base_uri": "https://localhost:8080/",
          "height": 151
        }
      },
      "source": [
        "#entrada: harina disponible var harina\n",
        "#proceso: calcular y aplicar factor\n",
        "#salida: nueva receta\n",
        "#obs: cada variable terminada en O hace ref. a receta original\n",
        "\n",
        "harinaO=0.5 \n",
        "aguaO=275\n",
        "levaduraO=7\n",
        "azucarO=1\n",
        "salO=1.5\n",
        "mantecaO=50\n",
        "\n",
        "#Escribir \"ingrese harina dispo. en Kg\"\n",
        "print(\"Ingrese harina disponible en Kg\")\n",
        "#Leer harina\n",
        "harina=(float)(input())\n",
        "#calcular factor\n",
        "factor=harina/harinaO\n",
        "\n",
        "print(\"su receta para \",harina,\" KG de harina es:\")\n",
        "\n",
        "print(aguaO*factor,\" ml de agua\")\n",
        "print(levaduraO*factor,\" gr de levadura\")\n",
        "print(azucarO*factor,\" cucharaditas de azúcar\")\n",
        "print(salO*factor,\" cucharaditas de sal\")\n",
        "print(mantecaO*factor,\" gr de manteca\")"
      ],
      "execution_count": 3,
      "outputs": [
        {
          "output_type": "stream",
          "text": [
            "Ingrese harina disponible en Kg\n",
            "1\n",
            "su receta para  1.0  KG de harina es:\n",
            "550.0  ml de agua\n",
            "14.0  gr de levadura\n",
            "2.0  cucharaditas de azúcar\n",
            "3.0  cucharaditas de sal\n",
            "100.0  gr de manteca\n"
          ],
          "name": "stdout"
        }
      ]
    }
  ]
}