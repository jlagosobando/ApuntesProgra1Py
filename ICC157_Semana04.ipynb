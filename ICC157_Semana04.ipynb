{
  "nbformat": 4,
  "nbformat_minor": 0,
  "metadata": {
    "colab": {
      "provenance": [],
      "collapsed_sections": [],
      "include_colab_link": true
    },
    "kernelspec": {
      "name": "python3",
      "display_name": "Python 3"
    },
    "language_info": {
      "name": "python"
    }
  },
  "cells": [
    {
      "cell_type": "markdown",
      "metadata": {
        "id": "view-in-github",
        "colab_type": "text"
      },
      "source": [
        "<a href=\"https://colab.research.google.com/github/jlagosobando/ApuntesProgra1Py/blob/master/ICC157_Semana04.ipynb\" target=\"_parent\"><img src=\"https://colab.research.google.com/assets/colab-badge.svg\" alt=\"Open In Colab\"/></a>"
      ]
    },
    {
      "cell_type": "markdown",
      "source": [
        "<div>\n",
        "<img src=\"https://www.ufro.cl/index.php/normas-corporativas/30-logo-ufro-azul-horizontal/file\" width=\"250\"/>\n",
        "</div>\n",
        "\n",
        "**ICC157 Taller de Programación**\n",
        "\n",
        "Profesor Mg. Juan Lagos O."
      ],
      "metadata": {
        "id": "IkwHKWN2Pz2y"
      }
    },
    {
      "cell_type": "markdown",
      "source": [
        "Consideré los siguientes bloques de código un ayudamemoria sobre el uso de ciclos visto en clases.\n",
        "\n"
      ],
      "metadata": {
        "id": "jd2_hPkTP83y"
      }
    },
    {
      "cell_type": "markdown",
      "source": [
        "### Ciclos For\n",
        "\n"
      ],
      "metadata": {
        "id": "TyEHEPqwoOYk"
      }
    },
    {
      "cell_type": "code",
      "source": [
        "for i in range(5):\n",
        "  print(\"esto es una vuelta del ciclo\")"
      ],
      "metadata": {
        "id": "FFcbZXwKW_1C"
      },
      "execution_count": null,
      "outputs": []
    },
    {
      "cell_type": "code",
      "source": [
        "for i in range(5):\n",
        "  print(\"esto es la vuelta n \",i)"
      ],
      "metadata": {
        "id": "4wEZ2gYU0cmF"
      },
      "execution_count": null,
      "outputs": []
    },
    {
      "cell_type": "code",
      "source": [
        "for i in range(5):\n",
        "  print(\"i no altera su valor, solo se muestra distinto, i vale= \",i)  \n",
        "  print(\"esto es la vuelta n \",i+1)\n"
      ],
      "metadata": {
        "id": "hmBPlwOA0j04"
      },
      "execution_count": null,
      "outputs": []
    },
    {
      "cell_type": "code",
      "source": [
        "for i in range(2,5):\n",
        "  print(\"esto es la vuelta n \",i)"
      ],
      "metadata": {
        "id": "yGmQjX-d0eNc"
      },
      "execution_count": null,
      "outputs": []
    },
    {
      "cell_type": "code",
      "source": [
        "for i in range(-2,5):\n",
        "  print(\"esto es la vuelta n \",i)"
      ],
      "metadata": {
        "id": "M1u5eovf0f94"
      },
      "execution_count": null,
      "outputs": []
    },
    {
      "cell_type": "markdown",
      "source": [
        "### Ciclos While"
      ],
      "metadata": {
        "id": "Mz5dGs6VoOVy"
      }
    },
    {
      "cell_type": "code",
      "source": [
        "#indeterminados\n",
        "# MIENTRAS > While\n",
        "\n",
        "# uso del While como validador\n",
        "# quiero recibir un a desde el usuario, y quiero asegurar que sea positivo\n",
        "\n",
        "a=int(input(\"ingrese un num positivo\"))\n",
        "\n",
        "while(a<=0):\n",
        "  print(\"ingrese un num positivo por favor\")\n",
        "  a=int(input())\n",
        "\n",
        "print(\"se guardó el valor \",a)"
      ],
      "metadata": {
        "id": "KQiphVaddWhs"
      },
      "execution_count": null,
      "outputs": []
    }
  ]
}