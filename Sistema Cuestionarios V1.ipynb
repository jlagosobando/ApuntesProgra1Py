{
  "nbformat": 4,
  "nbformat_minor": 0,
  "metadata": {
    "colab": {
      "name": "Untitled0.ipynb",
      "provenance": []
    },
    "kernelspec": {
      "name": "python3",
      "display_name": "Python 3"
    }
  },
  "cells": [
    {
      "cell_type": "markdown",
      "metadata": {
        "id": "XS1Rg86xFNYM",
        "colab_type": "text"
      },
      "source": [
        "Se le pide a tu equipo, prototipar el funcionamiento de un sistema de cuestionarios automatizados, para a futuro, poder desarrollarlo de forma productiva. \n",
        "\n",
        "Ustedes deben hacer el núcleo del sistema, el cual deberá permitir al usuario docente ingresar un número que representa la cantidad de preguntas que tendrá el cuestionario. Para cada una de esas preguntas, se deberán ingresar las respuestas correctas, representadas a nivel visual con las letras A, B o C.\n",
        "\n",
        "Una vez ingresadas las respuestas correctas, el programa deberá ofrecer responder el cuestionario cuantas veces uno quiera, deteniendo el proceso cuando el usuario así lo indique. \n",
        "\n",
        "Para cada ejecución del cuestionario, se deberán responder las preguntas con las alternativas A, B o C. Una vez terminado de responder el cuestionario, se entregará la nota y ofrecerá responderlo de nuevo.\n",
        "\n",
        "Por cada respuesta correcta se sumara un punto. La nota se calculará con un 60% de exigencia para el 4, con nota mínima de 1 y máximo 7."
      ]
    },
    {
      "cell_type": "code",
      "metadata": {
        "id": "J7kQTsFABJky",
        "colab_type": "code",
        "colab": {}
      },
      "source": [
        "#declaración de variables\n",
        "#cantP, puntaje :entero \n",
        "#correctas :arreglo\n",
        "#res, opt :texto\n",
        "#continuar :logica\n",
        "#nota: decimal\n",
        "\n",
        "#variables con valor inicial\n",
        "cantP=0\n",
        "correctas=[]\n",
        "continuar=True"
      ],
      "execution_count": 43,
      "outputs": []
    },
    {
      "cell_type": "code",
      "metadata": {
        "id": "LqOgFQUx7Ldj",
        "colab_type": "code",
        "colab": {}
      },
      "source": [
        "#entrada, cantP determina el largo del cuestionario\n",
        "#cantP tiene un valor inicial de 0 (no nos sirve) para que el while validador pueda trabajar\n",
        "\n",
        "print(\"Modo Docente: Crear el cuestionario\")\n",
        "while cantP<1:\n",
        "    cantP=(int)(input(\"Ingrese cantidad de preguntas para el cuestionario \\n\"))\n",
        "print(\"Complete las \",cantP,\" preguntas con alternativas 'a', 'b' o 'c'\")"
      ],
      "execution_count": null,
      "outputs": []
    },
    {
      "cell_type": "code",
      "metadata": {
        "id": "uFPftqTo8OL3",
        "colab_type": "code",
        "colab": {}
      },
      "source": [
        "#este ciclo rellena el arreglo vacio correctas con las plantillas\n",
        "for i in range(1,cantP+1):\n",
        "  res=\"d\"\n",
        "  #este ciclo valida que las respuestas solo sean a b o c, en mayus. o minus.\n",
        "  while res!=\"a\" and res!=\"b\" and res!=\"c\" and res!=\"A\" and res!=\"B\" and res!=\"C\":\n",
        "    res=(input(\"Ingrese respuesta para pregunta \"+str(i)+\"\\n\"))\n",
        "  correctas.append(res)"
      ],
      "execution_count": null,
      "outputs": []
    },
    {
      "cell_type": "code",
      "metadata": {
        "id": "Fna8WM2qAwSF",
        "colab_type": "code",
        "colab": {}
      },
      "source": [
        "#ciclo que repite el cuestionario mientras continuar sea verdadero\n",
        "while continuar==True:\n",
        "  print(\"Modo Estudiante: Responder el cuestionario \\n\")\n",
        "  #cada cuestionario debe iniciar su puntaje en 0\n",
        "  puntaje=0\n",
        "  #este for dará tantas vueltas como preguntas tengamos\n",
        "  for i in range(1,cantP+1):\n",
        "    res=\"d\"\n",
        "    while res!=\"a\" and res!=\"b\" and res!=\"c\" and res!=\"A\" and res!=\"B\" and res!=\"C\":\n",
        "      res=(input(\"Ingrese respuesta para pregunta \"+str(i)+\"\\n\"))\n",
        "    #una vez recibida la res, se compara con lo guardado en el arreglo para sumar o no puntos  \n",
        "    if res==correctas[i-1]:\n",
        "      puntaje+=1\n",
        "  #se calcula el puntaje según la exigencia\n",
        "  if puntaje < cantP*0.6:\n",
        "    nota=(4-1)*(puntaje/cantP*0.6)+1\n",
        "  else:\n",
        "    nota=(7-4)*((puntaje-cantP*0.6)/(cantP*(1-0.6)))+4\n",
        "  #se entrega la nota  \n",
        "  print(\"Su nota es: \",nota)\n",
        "  #se pregunta para saber si repetir o no el cuestionario  \n",
        "  opt=0\n",
        "  while opt!=1 and opt!=2:\n",
        "    opt=(int)(input(\"Ingrese [1] para repetir cuestionario [2] para salir \\n\"))\n",
        "  if opt==1:\n",
        "    continuar=True\n",
        "  else:\n",
        "    continuar=False\n",
        "#una vez fuera del ciclo de los cuestionarios, salimos        \n",
        "print(\"Chao!\")"
      ],
      "execution_count": null,
      "outputs": []
    }
  ]
}