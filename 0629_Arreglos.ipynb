{
  "nbformat": 4,
  "nbformat_minor": 0,
  "metadata": {
    "colab": {
      "name": "0629_Arreglos.ipynb",
      "provenance": [],
      "authorship_tag": "ABX9TyOxZwFn20oLu2ZhRhcnWTDZ",
      "include_colab_link": true
    },
    "kernelspec": {
      "name": "python3",
      "display_name": "Python 3"
    },
    "language_info": {
      "name": "python"
    }
  },
  "cells": [
    {
      "cell_type": "markdown",
      "metadata": {
        "id": "view-in-github",
        "colab_type": "text"
      },
      "source": [
        "<a href=\"https://colab.research.google.com/github/jlagosobando/ApuntesProgra1Py/blob/master/0629_Arreglos.ipynb\" target=\"_parent\"><img src=\"https://colab.research.google.com/assets/colab-badge.svg\" alt=\"Open In Colab\"/></a>"
      ]
    },
    {
      "cell_type": "code",
      "metadata": {
        "colab": {
          "base_uri": "https://localhost:8080/"
        },
        "id": "8zUJk_pFkv4W",
        "outputId": "3888470a-e99f-427c-9f52-5dd408592dae"
      },
      "source": [
        "frutas=[\"Manzana\",\"Piña\",\"Uva\",\"Melón\",\"Sandía\"]\n",
        "print(frutas[2])\n",
        "print(frutas)"
      ],
      "execution_count": 9,
      "outputs": [
        {
          "output_type": "stream",
          "text": [
            "Uva\n",
            "['Manzana', 'Piña', 'Uva', 'Melón', 'Sandía']\n"
          ],
          "name": "stdout"
        }
      ]
    },
    {
      "cell_type": "code",
      "metadata": {
        "colab": {
          "base_uri": "https://localhost:8080/"
        },
        "id": "YUKEbTmlocy7",
        "outputId": "d60cc0ce-6c47-4be1-a055-0386acb0fb3f"
      },
      "source": [
        "#para cada elemento en arreglo:\n",
        "#for elemento in arreglo\n",
        "for fruta in frutas:\n",
        "  print(fruta)"
      ],
      "execution_count": 10,
      "outputs": [
        {
          "output_type": "stream",
          "text": [
            "Manzana\n",
            "Piña\n",
            "Uva\n",
            "Melón\n",
            "Sandía\n"
          ],
          "name": "stdout"
        }
      ]
    },
    {
      "cell_type": "code",
      "metadata": {
        "colab": {
          "base_uri": "https://localhost:8080/"
        },
        "id": "ldPNgPXEqFaO",
        "outputId": "3e80515f-f754-45f0-c985-3b741706e253"
      },
      "source": [
        "#variable=valor\n",
        "#casilla=valor\n",
        "frutas[2]=\"Frutilla\"\n",
        "print(frutas)"
      ],
      "execution_count": 11,
      "outputs": [
        {
          "output_type": "stream",
          "text": [
            "['Manzana', 'Piña', 'Frutilla', 'Melón', 'Sandía']\n"
          ],
          "name": "stdout"
        }
      ]
    },
    {
      "cell_type": "code",
      "metadata": {
        "colab": {
          "base_uri": "https://localhost:8080/"
        },
        "id": "qYhnKuMuqzoC",
        "outputId": "435c0f9c-7589-4065-f131-ae0dc3906cea"
      },
      "source": [
        "a=[]\n",
        "b=[1,2,3,4,5,6]\n",
        "print(a)\n",
        "print(b)"
      ],
      "execution_count": 12,
      "outputs": [
        {
          "output_type": "stream",
          "text": [
            "[]\n",
            "[1, 2, 3, 4, 5, 6]\n"
          ],
          "name": "stdout"
        }
      ]
    },
    {
      "cell_type": "code",
      "metadata": {
        "colab": {
          "base_uri": "https://localhost:8080/"
        },
        "id": "oHjFMUXGrJMf",
        "outputId": "5ddbc939-8a4b-4f00-87ef-36b1e3374608"
      },
      "source": [
        "#agregar elementos a un arreglo con append\n",
        "a.append(1)\n",
        "a.append(2)\n",
        "print(a)"
      ],
      "execution_count": 13,
      "outputs": [
        {
          "output_type": "stream",
          "text": [
            "[1, 2]\n"
          ],
          "name": "stdout"
        }
      ]
    },
    {
      "cell_type": "code",
      "metadata": {
        "colab": {
          "base_uri": "https://localhost:8080/"
        },
        "id": "jghS5mUkru7i",
        "outputId": "2cdd3e2e-257e-4c2c-895a-56218ee1c527"
      },
      "source": [
        "a.append(int(input(\"añada elementos al arreglo \")))\n",
        "print(a)"
      ],
      "execution_count": 17,
      "outputs": [
        {
          "output_type": "stream",
          "text": [
            "añada elementos al arreglo 100\n",
            "[1, 2, 10, 66, 9, 0, 4, 100]\n"
          ],
          "name": "stdout"
        }
      ]
    },
    {
      "cell_type": "code",
      "metadata": {
        "colab": {
          "base_uri": "https://localhost:8080/"
        },
        "id": "YCKeTmD3sOS_",
        "outputId": "99f8f2d4-bf2e-42c8-9fd5-6950b844b6c5"
      },
      "source": [
        "for i in range(3):\n",
        "  a.append(int(input(\"añada elementos al arreglo \")))\n",
        "\n",
        "print(a)"
      ],
      "execution_count": 16,
      "outputs": [
        {
          "output_type": "stream",
          "text": [
            "añada elementos al arreglo 9\n",
            "añada elementos al arreglo 0\n",
            "añada elementos al arreglo 4\n",
            "[1, 2, 10, 66, 9, 0, 4]\n"
          ],
          "name": "stdout"
        }
      ]
    },
    {
      "cell_type": "code",
      "metadata": {
        "colab": {
          "base_uri": "https://localhost:8080/"
        },
        "id": "TOmbdaMH18Gq",
        "outputId": "24c438d0-9d47-4e2c-9093-5883969fe7ac"
      },
      "source": [
        "i=1\n",
        "while (i<=3):\n",
        "  a.append(int(input(\"añada elementos al arreglo \")))\n",
        "  i=i+1\n",
        "  \n",
        "print(a)"
      ],
      "execution_count": 18,
      "outputs": [
        {
          "output_type": "stream",
          "text": [
            "añada elementos al arreglo 101\n",
            "añada elementos al arreglo 65\n",
            "añada elementos al arreglo 77\n",
            "[1, 2, 10, 66, 9, 0, 4, 100, 101, 65, 77]\n"
          ],
          "name": "stdout"
        }
      ]
    },
    {
      "cell_type": "code",
      "metadata": {
        "colab": {
          "base_uri": "https://localhost:8080/"
        },
        "id": "KwcN4ujFt5RH",
        "outputId": "ca9836a6-2805-442a-cbb5-b592af7206c0"
      },
      "source": [
        "#agregar elementos a un arreglo con extend\n",
        "a.extend(b)\n",
        "print(a)\n",
        "\n",
        "b.extend(a) \n",
        "print(b)"
      ],
      "execution_count": 20,
      "outputs": [
        {
          "output_type": "stream",
          "text": [
            "[1, 2, 10, 66, 9, 0, 4, 100, 101, 65, 77, 1, 2, 3, 4, 5, 6, 1, 2, 3, 4, 5, 6]\n",
            "[1, 2, 3, 4, 5, 6, 1, 2, 10, 66, 9, 0, 4, 100, 101, 65, 77, 1, 2, 3, 4, 5, 6, 1, 2, 3, 4, 5, 6]\n"
          ],
          "name": "stdout"
        }
      ]
    },
    {
      "cell_type": "code",
      "metadata": {
        "colab": {
          "base_uri": "https://localhost:8080/"
        },
        "id": "ucSd4g08uwdX",
        "outputId": "69eebd24-1b3e-4ad0-d63c-f534070230ad"
      },
      "source": [
        "#agregar elementos a un arreglo con insert y modificar celda\n",
        "a[0]=7\n",
        "a.insert(1,\"X\")\n",
        "print(a)"
      ],
      "execution_count": 21,
      "outputs": [
        {
          "output_type": "stream",
          "text": [
            "[7, 'X', 2, 10, 66, 9, 0, 4, 100, 101, 65, 77, 1, 2, 3, 4, 5, 6, 1, 2, 3, 4, 5, 6]\n"
          ],
          "name": "stdout"
        }
      ]
    },
    {
      "cell_type": "code",
      "metadata": {
        "colab": {
          "base_uri": "https://localhost:8080/"
        },
        "id": "7QFITriqv55j",
        "outputId": "9bb19cf4-fef5-41dd-a886-5c416b29e51c"
      },
      "source": [
        "#eliminar elementos de un arreglo remove\n",
        "a.remove(\"X\")\n",
        "print(a)"
      ],
      "execution_count": 22,
      "outputs": [
        {
          "output_type": "stream",
          "text": [
            "[7, 2, 10, 66, 9, 0, 4, 100, 101, 65, 77, 1, 2, 3, 4, 5, 6, 1, 2, 3, 4, 5, 6]\n"
          ],
          "name": "stdout"
        }
      ]
    },
    {
      "cell_type": "code",
      "metadata": {
        "colab": {
          "base_uri": "https://localhost:8080/"
        },
        "id": "Q_Kn1nyPwWFr",
        "outputId": "d35a83fa-98fb-464d-c2ed-42ba0d4e71b3"
      },
      "source": [
        "#eliminar elementos de un arreglo remove\n",
        "a.remove(1)\n",
        "print(a)"
      ],
      "execution_count": 23,
      "outputs": [
        {
          "output_type": "stream",
          "text": [
            "[7, 2, 10, 66, 9, 0, 4, 100, 101, 65, 77, 2, 3, 4, 5, 6, 1, 2, 3, 4, 5, 6]\n"
          ],
          "name": "stdout"
        }
      ]
    },
    {
      "cell_type": "code",
      "metadata": {
        "colab": {
          "base_uri": "https://localhost:8080/"
        },
        "id": "zOFjXkudwmS6",
        "outputId": "934f2810-228c-43e6-c73e-ccbe83eed849"
      },
      "source": [
        "#eliminar elementos de un arreglo del\n",
        "del a[0]\n",
        "print(a)"
      ],
      "execution_count": 24,
      "outputs": [
        {
          "output_type": "stream",
          "text": [
            "[2, 10, 66, 9, 0, 4, 100, 101, 65, 77, 2, 3, 4, 5, 6, 1, 2, 3, 4, 5, 6]\n"
          ],
          "name": "stdout"
        }
      ]
    },
    {
      "cell_type": "code",
      "metadata": {
        "colab": {
          "base_uri": "https://localhost:8080/"
        },
        "id": "Me0dZn9K5kQO",
        "outputId": "982dbb1a-1231-455e-d80c-3ad6806d8a41"
      },
      "source": [
        "x=[1,2,3]\n",
        "y=[6,4,5]\n",
        "z=[x,y]\n",
        "\n",
        "print(x)\n",
        "print(y)\n",
        "print(z)"
      ],
      "execution_count": 25,
      "outputs": [
        {
          "output_type": "stream",
          "text": [
            "[1, 2, 3]\n",
            "[6, 4, 5]\n",
            "[[1, 2, 3], [6, 4, 5]]\n"
          ],
          "name": "stdout"
        }
      ]
    },
    {
      "cell_type": "code",
      "metadata": {
        "colab": {
          "base_uri": "https://localhost:8080/"
        },
        "id": "tqgJkltiyKf1",
        "outputId": "0e73a9e4-ad40-4bb3-cb02-5879db737ed1"
      },
      "source": [
        "print(z[0])\n",
        "print(z[1])"
      ],
      "execution_count": 26,
      "outputs": [
        {
          "output_type": "stream",
          "text": [
            "[1, 2, 3]\n",
            "[6, 4, 5]\n"
          ],
          "name": "stdout"
        }
      ]
    },
    {
      "cell_type": "code",
      "metadata": {
        "colab": {
          "base_uri": "https://localhost:8080/"
        },
        "id": "8rzCYXRbyV_f",
        "outputId": "04c55133-891f-47e0-bced-7ff067c3fb44"
      },
      "source": [
        "z[0][1]=8\n",
        "print(z[0][1])"
      ],
      "execution_count": 28,
      "outputs": [
        {
          "output_type": "stream",
          "text": [
            "8\n"
          ],
          "name": "stdout"
        }
      ]
    }
  ]
}