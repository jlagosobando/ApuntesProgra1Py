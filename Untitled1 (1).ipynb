{
  "nbformat": 4,
  "nbformat_minor": 0,
  "metadata": {
    "colab": {
      "name": "Untitled1.ipynb",
      "provenance": []
    },
    "kernelspec": {
      "name": "python3",
      "display_name": "Python 3"
    }
  },
  "cells": [
    {
      "cell_type": "markdown",
      "metadata": {
        "id": "FaJOkyBg2ACt",
        "colab_type": "text"
      },
      "source": [
        "Manejo de Texto\n"
      ]
    },
    {
      "cell_type": "code",
      "metadata": {
        "id": "K7EaXV671_wM",
        "colab_type": "code",
        "colab": {
          "base_uri": "https://localhost:8080/",
          "height": 86
        },
        "outputId": "83bddf47-1a8a-471d-ffec-cf5254f647ce"
      },
      "source": [
        "#variables\n",
        "txt=\"Hola\"\n",
        "var=\"Mundo\"\n",
        "print(txt)\n",
        "print(var)\n",
        "print(txt+var)\n",
        "print(txt,var)"
      ],
      "execution_count": 52,
      "outputs": [
        {
          "output_type": "stream",
          "text": [
            "Hola\n",
            "Mundo\n",
            "HolaMundo\n",
            "Hola Mundo\n"
          ],
          "name": "stdout"
        }
      ]
    },
    {
      "cell_type": "code",
      "metadata": {
        "id": "WOJxUH8AWnmD",
        "colab_type": "code",
        "colab": {
          "base_uri": "https://localhost:8080/",
          "height": 86
        },
        "outputId": "a1b23885-28e9-491b-fa6d-23bb8e4f5718"
      },
      "source": [
        "#frase y slicing \n",
        "frase=txt+\" \"+var\n",
        "print(frase)\n",
        "print(frase[0])\n",
        "print(frase[1:3])\n",
        "print(frase[::2])"
      ],
      "execution_count": 53,
      "outputs": [
        {
          "output_type": "stream",
          "text": [
            "Hola Mundo\n",
            "H\n",
            "ol\n",
            "Hl ud\n"
          ],
          "name": "stdout"
        }
      ]
    },
    {
      "cell_type": "code",
      "metadata": {
        "id": "hs4pNc_bDk2x",
        "colab_type": "code",
        "colab": {
          "base_uri": "https://localhost:8080/",
          "height": 52
        },
        "outputId": "f48337d6-cbdf-4ea3-c9f1-8a5ca38cb1f7"
      },
      "source": [
        "#Actualizar texto\n",
        "txt=\"h\"+txt[1:]\n",
        "var=\"m\"+var[1:]\n",
        "nuevaFrase=txt+\" \"+var\n",
        "print(frase)\n",
        "print(nuevaFrase)"
      ],
      "execution_count": 54,
      "outputs": [
        {
          "output_type": "stream",
          "text": [
            "Hola Mundo\n",
            "hola mundo\n"
          ],
          "name": "stdout"
        }
      ]
    },
    {
      "cell_type": "markdown",
      "metadata": {
        "id": "5poRRvHj4JaV",
        "colab_type": "text"
      },
      "source": [
        "Funciones"
      ]
    },
    {
      "cell_type": "code",
      "metadata": {
        "id": "AGHbXPVd4IxH",
        "colab_type": "code",
        "colab": {}
      },
      "source": [
        "#suma 2 numeros\n",
        "def suma2(x,y):\n",
        "    z=x+y  \n",
        "    return z\n"
      ],
      "execution_count": 55,
      "outputs": []
    },
    {
      "cell_type": "code",
      "metadata": {
        "id": "X982YHu_3xcu",
        "colab_type": "code",
        "colab": {
          "base_uri": "https://localhost:8080/",
          "height": 34
        },
        "outputId": "189587ed-166a-4f89-9557-c635be3bb7e1"
      },
      "source": [
        "#uso suma2\n",
        "s=suma2(4,5) #9\n",
        "x=suma2(9,5)\n",
        "print(s,x)"
      ],
      "execution_count": 56,
      "outputs": [
        {
          "output_type": "stream",
          "text": [
            "9 14\n"
          ],
          "name": "stdout"
        }
      ]
    },
    {
      "cell_type": "code",
      "metadata": {
        "id": "vaDl2NrYL2Oi",
        "colab_type": "code",
        "colab": {}
      },
      "source": [
        "#sumar elementos de arreglo\n",
        "def sumarreglos1(arreglo):\n",
        "    ns=0\n",
        "    for i in range (len(arreglo)):\n",
        "        ns=ns+arreglo[i]\n",
        "    return ns\n"
      ],
      "execution_count": 57,
      "outputs": []
    },
    {
      "cell_type": "code",
      "metadata": {
        "id": "vGbXXvP94wFV",
        "colab_type": "code",
        "colab": {
          "base_uri": "https://localhost:8080/",
          "height": 34
        },
        "outputId": "fbccad3e-5b6a-4b60-bf93-d760d4a8f456"
      },
      "source": [
        "#uso sumarreglos1\n",
        "aU=[1,2,3,4,5,6] #suma 21\n",
        "s=sumarreglos1(aU)\n",
        "print(s)"
      ],
      "execution_count": 58,
      "outputs": [
        {
          "output_type": "stream",
          "text": [
            "21\n"
          ],
          "name": "stdout"
        }
      ]
    },
    {
      "cell_type": "code",
      "metadata": {
        "id": "omw-Hcqc5GGi",
        "colab_type": "code",
        "colab": {}
      },
      "source": [
        "#sumar elementos de una matriz\n",
        "def sumarreglos2(arreglo):\n",
        "    ns=0\n",
        "    for i in range(len(arreglo)):\n",
        "        for j in range(len(arreglo[i])):\n",
        "            ns=ns+arreglo[i][j]\n",
        "    return ns"
      ],
      "execution_count": 59,
      "outputs": []
    },
    {
      "cell_type": "code",
      "metadata": {
        "id": "1qnsJLqE5K7z",
        "colab_type": "code",
        "colab": {
          "base_uri": "https://localhost:8080/",
          "height": 52
        },
        "outputId": "dd0f2a0d-b318-4827-ac42-af4b708169c9"
      },
      "source": [
        "aB=[[1,2,3],[4,5,6]] #suma 21\n",
        "aC=[[1,2,3],[4,5,6],[7,8,9]] #suma 45\n",
        "\n",
        "print(sumarreglos2(aB))\n",
        "print(sumarreglos2(aC))"
      ],
      "execution_count": 60,
      "outputs": [
        {
          "output_type": "stream",
          "text": [
            "21\n",
            "45\n"
          ],
          "name": "stdout"
        }
      ]
    },
    {
      "cell_type": "code",
      "metadata": {
        "id": "SRNbOBCp5bzt",
        "colab_type": "code",
        "colab": {}
      },
      "source": [
        "def CalculaDV(x):\n",
        "    f=2\n",
        "    s=0\n",
        "    for i in range(len(str(x))):\n",
        "        d=x%10\n",
        "        x=x//10\n",
        "        m=d*f\n",
        "        f=f+1\n",
        "        if(f>7):\n",
        "            f=2\n",
        "        s=s+m\n",
        "    dv=s%11\n",
        "    dv=11-dv\n",
        "    if(dv<10):\n",
        "        return dv\n",
        "    if(dv==10):\n",
        "        return \"K\"\n",
        "    if(dv==11):\n",
        "        return 0\n",
        "\n",
        "#verificar si un rut es real\n",
        "def VerificaRut(rut,dv):\n",
        "    if(dv==\"k\"):\n",
        "        dv=\"K\"\n",
        "    if(CalculaDV(rut)==dv):\n",
        "        return True\n",
        "    else:\n",
        "        return False\n",
        "\n"
      ],
      "execution_count": 61,
      "outputs": []
    },
    {
      "cell_type": "code",
      "metadata": {
        "id": "KjrUv6xR5fQ_",
        "colab_type": "code",
        "colab": {
          "base_uri": "https://localhost:8080/",
          "height": 52
        },
        "outputId": "ca31ab12-ed40-4a44-ace3-04271cd8621a"
      },
      "source": [
        "#uso\n",
        "print(CalculaDV(19199552))\n",
        "print(VerificaRut(19199552,\"K\"))"
      ],
      "execution_count": 62,
      "outputs": [
        {
          "output_type": "stream",
          "text": [
            "K\n",
            "True\n"
          ],
          "name": "stdout"
        }
      ]
    },
    {
      "cell_type": "markdown",
      "metadata": {
        "id": "QMJncAyq6UsG",
        "colab_type": "text"
      },
      "source": [
        "Archivos\n"
      ]
    },
    {
      "cell_type": "code",
      "metadata": {
        "id": "qWScHzZS6Xqe",
        "colab_type": "code",
        "colab": {}
      },
      "source": [
        "#abrir archivo para para escritura, si archivo no existe se crea\n",
        "f=open(\"archivo.txt\",\"w\")\n",
        "f.write(\"test\")\n",
        "f.close()"
      ],
      "execution_count": 63,
      "outputs": []
    },
    {
      "cell_type": "code",
      "metadata": {
        "id": "KwECH6U_6srq",
        "colab_type": "code",
        "colab": {}
      },
      "source": [
        "#abrir archivo para escritura,  guarda enteros, reescribe el archivo\n",
        "f=open(\"archivo.txt\",\"w\")\n",
        "for i in range(21):\n",
        "    f.write(str(i))\n",
        "f.close()"
      ],
      "execution_count": 64,
      "outputs": []
    },
    {
      "cell_type": "code",
      "metadata": {
        "id": "2H6ap-jK6rFZ",
        "colab_type": "code",
        "colab": {}
      },
      "source": [
        "#abrir archivo para escritura,  guarda enteros con salto de linea\n",
        "f=open(\"archivo.txt\",\"w\")\n",
        "for i in range(21):\n",
        "    f.write(str(i)+\"\\n\")\n",
        "f.close()"
      ],
      "execution_count": 65,
      "outputs": []
    },
    {
      "cell_type": "code",
      "metadata": {
        "id": "NlVINzxT6oPY",
        "colab_type": "code",
        "colab": {}
      },
      "source": [
        "#abrir archivo para escritura,  guarda textos con salto de linea\n",
        "f=open(\"archivo.txt\",\"w\")\n",
        "for i in range(60, 123):\n",
        "    f.write(\"ascii \"+str(i)+\" \"+chr(i)+\"\\n\")\n",
        "f.close()"
      ],
      "execution_count": 66,
      "outputs": []
    },
    {
      "cell_type": "code",
      "metadata": {
        "id": "48nMn8jYJkH0",
        "colab_type": "code",
        "colab": {
          "base_uri": "https://localhost:8080/",
          "height": 69
        },
        "outputId": "63970906-6954-421a-df47-cf8f9edb4739"
      },
      "source": [
        "f=open(\"archivo.txt\",\"w\")\n",
        "for i in range(3):\n",
        "    p=input(\"ingrese algo \")\n",
        "    f.write(p+\"\\n\")\n",
        "f.close()"
      ],
      "execution_count": 67,
      "outputs": [
        {
          "output_type": "stream",
          "text": [
            "ingrese algo este archivo\n",
            "ingrese algo lo llene ingresando\n",
            "ingrese algo textos por teclado\n"
          ],
          "name": "stdout"
        }
      ]
    },
    {
      "cell_type": "code",
      "metadata": {
        "id": "5q4nP-oS6mo2",
        "colab_type": "code",
        "colab": {
          "base_uri": "https://localhost:8080/",
          "height": 86
        },
        "outputId": "2dfd08f7-e2d4-476b-9e24-13a01461c0e7"
      },
      "source": [
        "#abrir archivo para lectura, lee todo de una vez\n",
        "f=open(\"archivo.txt\",\"r\")\n",
        "text=f.read()\n",
        "print(text)"
      ],
      "execution_count": 68,
      "outputs": [
        {
          "output_type": "stream",
          "text": [
            "este archivo\n",
            "lo llene ingresando\n",
            "textos por teclado\n",
            "\n"
          ],
          "name": "stdout"
        }
      ]
    },
    {
      "cell_type": "code",
      "metadata": {
        "id": "YaQRpgD46lIG",
        "colab_type": "code",
        "colab": {
          "base_uri": "https://localhost:8080/",
          "height": 52
        },
        "outputId": "c7ad7667-6919-4c1e-d7fc-161a7d9a597f"
      },
      "source": [
        "#abrir archivo para lectura, lee solo una linea\n",
        "f=open(\"archivo.txt\",\"r\")\n",
        "texto=f.readline()\n",
        "print(texto)"
      ],
      "execution_count": 69,
      "outputs": [
        {
          "output_type": "stream",
          "text": [
            "este archivo\n",
            "\n"
          ],
          "name": "stdout"
        }
      ]
    },
    {
      "cell_type": "code",
      "metadata": {
        "id": "IPiF6VXi6jdT",
        "colab_type": "code",
        "colab": {
          "base_uri": "https://localhost:8080/",
          "height": 121
        },
        "outputId": "282b5ddd-cec2-48e5-e02b-802d0e80f2a6"
      },
      "source": [
        "#abrir archivo para lectura, lee linea a linea e imprime mietras no se llegue al final del archivo\n",
        "f=open(\"archivo.txt\",\"r\")\n",
        "while True:\n",
        "    texto=f.readline()\n",
        "    if texto==\"\":\n",
        "        break\n",
        "    print(texto)"
      ],
      "execution_count": 70,
      "outputs": [
        {
          "output_type": "stream",
          "text": [
            "este archivo\n",
            "\n",
            "lo llene ingresando\n",
            "\n",
            "textos por teclado\n",
            "\n"
          ],
          "name": "stdout"
        }
      ]
    },
    {
      "cell_type": "code",
      "metadata": {
        "id": "K9hcu6xl6hRk",
        "colab_type": "code",
        "colab": {
          "base_uri": "https://localhost:8080/",
          "height": 121
        },
        "outputId": "30d235a4-2ce6-44b9-d4a7-34e6e8108bec"
      },
      "source": [
        "#abrir archivo para lectura, lee linea a linea e imprime\n",
        "f=open(\"archivo.txt\",\"r\")\n",
        "for line in f:\n",
        "    print(line)"
      ],
      "execution_count": 71,
      "outputs": [
        {
          "output_type": "stream",
          "text": [
            "este archivo\n",
            "\n",
            "lo llene ingresando\n",
            "\n",
            "textos por teclado\n",
            "\n"
          ],
          "name": "stdout"
        }
      ]
    },
    {
      "cell_type": "code",
      "metadata": {
        "id": "PlZFXKq06fqy",
        "colab_type": "code",
        "colab": {
          "base_uri": "https://localhost:8080/",
          "height": 121
        },
        "outputId": "07b17417-b4cf-447b-b479-b520b20552be"
      },
      "source": [
        "#abrir archivo para lectura, lee linea a linea e imprime con frase\n",
        "i=1\n",
        "f=open(\"archivo.txt\",\"r\")\n",
        "for line in f:\n",
        "    print(\"linea \"+str(i)+\" \"+line)\n",
        "    i=i+1"
      ],
      "execution_count": 72,
      "outputs": [
        {
          "output_type": "stream",
          "text": [
            "linea 1 este archivo\n",
            "\n",
            "linea 2 lo llene ingresando\n",
            "\n",
            "linea 3 textos por teclado\n",
            "\n"
          ],
          "name": "stdout"
        }
      ]
    },
    {
      "cell_type": "code",
      "metadata": {
        "id": "yytpO7ENZZRs",
        "colab_type": "code",
        "colab": {
          "base_uri": "https://localhost:8080/",
          "height": 52
        },
        "outputId": "6dc54bda-8f06-4d03-8b5a-3c4eba6fc85d"
      },
      "source": [
        "#leer línea especifica, ej. la 3\n",
        "f=open(\"archivo.txt\",\"r\")\n",
        "lines=f.readlines()\n",
        "print(lines[2])"
      ],
      "execution_count": 73,
      "outputs": [
        {
          "output_type": "stream",
          "text": [
            "textos por teclado\n",
            "\n"
          ],
          "name": "stdout"
        }
      ]
    },
    {
      "cell_type": "code",
      "metadata": {
        "id": "H9huqj9redoo",
        "colab_type": "code",
        "colab": {}
      },
      "source": [
        "#añadir datos a un archivo sin borrar lo previo\n",
        "f=open(\"archivo.txt\",\"a+\")\n",
        "f.write(\"esta frase la agregué\\n\")\n",
        "f.close()"
      ],
      "execution_count": 78,
      "outputs": []
    },
    {
      "cell_type": "code",
      "metadata": {
        "id": "SOYlf4Bye_tj",
        "colab_type": "code",
        "colab": {}
      },
      "source": [
        "#añadir datos a un archivo sin borrar lo previo\n",
        "f=open(\"archivo.txt\",\"a+\")\n",
        "f.write(\"sin sobreescribir\\n\")\n",
        "f.close()"
      ],
      "execution_count": 79,
      "outputs": []
    }
  ]
}