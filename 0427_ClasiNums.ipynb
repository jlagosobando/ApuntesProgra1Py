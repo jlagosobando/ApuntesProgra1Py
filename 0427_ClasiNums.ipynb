{
  "nbformat": 4,
  "nbformat_minor": 0,
  "metadata": {
    "colab": {
      "name": "0427_ClasiNums.ipynb",
      "provenance": [],
      "authorship_tag": "ABX9TyMUPfUQuVx3J6/vFVxupEDG",
      "include_colab_link": true
    },
    "kernelspec": {
      "name": "python3",
      "display_name": "Python 3"
    },
    "language_info": {
      "name": "python"
    }
  },
  "cells": [
    {
      "cell_type": "markdown",
      "metadata": {
        "id": "view-in-github",
        "colab_type": "text"
      },
      "source": [
        "<a href=\"https://colab.research.google.com/github/jlagosobando/ApuntesProgra1Py/blob/master/0427_ClasiNums.ipynb\" target=\"_parent\"><img src=\"https://colab.research.google.com/assets/colab-badge.svg\" alt=\"Open In Colab\"/></a>"
      ]
    },
    {
      "cell_type": "markdown",
      "metadata": {
        "id": "pe5gs5lokUa7"
      },
      "source": [
        ""
      ]
    },
    {
      "cell_type": "code",
      "metadata": {
        "id": "T3B1n2pZehHg"
      },
      "source": [
        "# N : decimal,   res :texto\n",
        "#usamos res=\"\" para las pruebas donde res no tenia valor\n",
        "res=\"\"\n",
        "\n",
        "#print es escribir, mostrar texto\n",
        "print(\"Ingrese su num a evaluar\")\n",
        "#input es leer, recibe como texto (String) \n",
        "#float transforma lo del input, a decimal\n",
        "#variable=valor\n",
        "N=float(input())\n",
        "\n",
        "# si n<0 entonces es negativo\n",
        "if N<0:\n",
        "  res=\"Negativo\"\n",
        "\n",
        "# si n>0 entonces es positivo\n",
        "if N>0:\n",
        "  res=\"Positivo\"\n",
        "\n",
        "# si n=0 entonces es neutro\n",
        "# el simbolo = indica afirmacion (esto es igual a esto) y == es pregunta (es esto igual a esto otro?)\n",
        "if N==0:\n",
        "  res=\"Neutro\"\n",
        "\n",
        "print(\"su num es\",res)"
      ],
      "execution_count": null,
      "outputs": []
    },
    {
      "cell_type": "code",
      "metadata": {
        "id": "YjfluWZvaP8g"
      },
      "source": [
        "# N : decimal,   res :texto\n",
        "\n",
        "\n",
        "print(\"Ingrese su num a evaluar\")\n",
        "N=float(input())\n",
        "\n",
        "# si n<0 entonces es negativo\n",
        "# el if pregunta, y si la pregunta es verdadero lleva a cabo una acción\n",
        "if N<0: #condicion\n",
        "  res=\"Negativo\" #accion\n",
        "# el else toma el contron cuando la condicion anterior da falso  \n",
        "else:\n",
        "  # si n>0 entonces es positivo\n",
        "  if N>0:\n",
        "    res=\"Positivo\"\n",
        "  else:\n",
        "    # si n=0 entonces es neutro\n",
        "    res=\"Neutro\"\n",
        "\n",
        "print(\"su num es\",res)"
      ],
      "execution_count": null,
      "outputs": []
    },
    {
      "cell_type": "code",
      "metadata": {
        "id": "1KgvSb5JgqgI"
      },
      "source": [
        "# N : decimal,   res :texto\n",
        "\n",
        "N=float(input(\"Ingrese su num a evaluar \"))\n",
        "\n",
        "# si n<0 entonces es negativo\n",
        "# el if pregunta, y si la pregunta es verdadero lleva a cabo una acción\n",
        "if N<0: #condicion\n",
        "  res=\"Negativo\" #accion\n",
        "# el elif opera haciendo una pregunta cuando el if (o elif) anterior dio falso\n",
        "elif N>0:\n",
        "  res=\"Positivo\"\n",
        "# este else opera cuando el if y elif anteriores, dieron falso\n",
        "else:\n",
        "  # si n=0 entonces es neutro\n",
        "  res=\"Neutro\"\n",
        "\n",
        "print(\"su num es\",res)"
      ],
      "execution_count": null,
      "outputs": []
    }
  ]
}