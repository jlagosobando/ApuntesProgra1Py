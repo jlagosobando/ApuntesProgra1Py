{
  "nbformat": 4,
  "nbformat_minor": 0,
  "metadata": {
    "colab": {
      "name": "Untitled7.ipynb",
      "provenance": [],
      "authorship_tag": "ABX9TyNAxANm/Mx6h7rbKtxwKhCu",
      "include_colab_link": true
    },
    "kernelspec": {
      "name": "python3",
      "display_name": "Python 3"
    },
    "language_info": {
      "name": "python"
    }
  },
  "cells": [
    {
      "cell_type": "markdown",
      "metadata": {
        "id": "view-in-github",
        "colab_type": "text"
      },
      "source": [
        "<a href=\"https://colab.research.google.com/github/jlagosobando/ApuntesProgra1Py/blob/master/0601_ManejoErrores.ipynb\" target=\"_parent\"><img src=\"https://colab.research.google.com/assets/colab-badge.svg\" alt=\"Open In Colab\"/></a>"
      ]
    },
    {
      "cell_type": "markdown",
      "metadata": {
        "id": "orqXf20weDp0"
      },
      "source": [
        "Psc"
      ]
    },
    {
      "cell_type": "code",
      "metadata": {
        "id": "1Y74hIqRZpPW"
      },
      "source": [
        "INICIO\n",
        "  nota1=0, nota2=0, nota3=0, promedio :decimal\n",
        "\n",
        "  MIENTRAS nota1<1 O nota1>7\n",
        "    ESCRIBIR \"ingrese su primera nota\"\n",
        "    LEER nota1    \n",
        "\n",
        "  MIENTRAS nota2<1 O nota2>7\n",
        "    ESCRIBIR \"ingrese su segunda nota\"\n",
        "    LEER nota2\n",
        "\n",
        "  MIENTRAS nota3<1 O nota3>7\n",
        "    ESCRIBIR \"ingrese su tercera nota\"\n",
        "    LEER nota3  \n",
        "\n",
        "  promedio=(nota1+nota2+nota3)/3\n",
        "  ESCRIBIR \"Su promedio es \",promedio\n",
        "\n",
        "FIN"
      ],
      "execution_count": null,
      "outputs": []
    },
    {
      "cell_type": "markdown",
      "metadata": {
        "id": "mr3iP-8Bfm5j"
      },
      "source": [
        "Código"
      ]
    },
    {
      "cell_type": "code",
      "metadata": {
        "id": "tPiC4DITfl4l"
      },
      "source": [
        "# nota1=0, nota2=0, nota3=0, promedio :decimal\n",
        "nota1=0\n",
        "nota2=0\n",
        "nota3=0\n",
        "\n",
        "# usamos try y except para manejar errores criticos\n",
        "\n",
        "while (nota1<1 or nota1>7):\n",
        "  print(\"ingrese su primera nota\")\n",
        "  try:\n",
        "    nota1=float(input())\n",
        "  except:\n",
        "    print(\"por favor ingrese un valor adecuado\")\n",
        "\n",
        "while (nota2<1 or nota2>7):\n",
        "  print(\"ingrese su segunda nota\")\n",
        "  try:\n",
        "    nota2=float(input())\n",
        "  except:\n",
        "    print(\"por favor ingrese un valor adecuado\")\n",
        "\n",
        "while (nota3<1 or nota3>7):\n",
        "  print(\"ingrese su tercera nota\")\n",
        "  try:\n",
        "    nota3=float(input())\n",
        "  except:\n",
        "    print(\"por favor ingrese un valor adecuado\")\n",
        "\n",
        "\n",
        "promedio=(nota1+nota2+nota3)/3\n",
        "print(\"Su promedio es \",promedio)\n",
        "\n"
      ],
      "execution_count": null,
      "outputs": []
    },
    {
      "cell_type": "code",
      "metadata": {
        "id": "AxUDHxcei12W"
      },
      "source": [
        "# nota=0, promedio=0 :decimal\n",
        "promedio=0\n",
        "\n",
        "# cada vuelta del for es una nota nueva\n",
        "for i in range(3):\n",
        "  nota=0\n",
        "  while(nota<1 or nota>7):\n",
        "    print(\"ingrese su nota \",(i+1))\n",
        "    try:\n",
        "      nota=float(input())\n",
        "    except:\n",
        "      print(\"por favor ingrese un valor adecuado\")\n",
        "\n",
        "  promedio=promedio+nota\n",
        "\n",
        "promedio=promedio/3\n",
        "print(\"Su promedio es \",promedio)    \n"
      ],
      "execution_count": null,
      "outputs": []
    }
  ]
}