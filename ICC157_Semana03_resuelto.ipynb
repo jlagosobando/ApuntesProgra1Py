{
  "nbformat": 4,
  "nbformat_minor": 0,
  "metadata": {
    "colab": {
      "provenance": [],
      "collapsed_sections": [
        "yVxf8k99oONm",
        "bLFOjKNroOKq"
      ],
      "include_colab_link": true
    },
    "kernelspec": {
      "name": "python3",
      "display_name": "Python 3"
    },
    "language_info": {
      "name": "python"
    }
  },
  "cells": [
    {
      "cell_type": "markdown",
      "metadata": {
        "id": "view-in-github",
        "colab_type": "text"
      },
      "source": [
        "<a href=\"https://colab.research.google.com/github/jlagosobando/ApuntesProgra1Py/blob/master/ICC157_Semana03_resuelto.ipynb\" target=\"_parent\"><img src=\"https://colab.research.google.com/assets/colab-badge.svg\" alt=\"Open In Colab\"/></a>"
      ]
    },
    {
      "cell_type": "markdown",
      "source": [
        "<div>\n",
        "<img src=\"https://www.ufro.cl/index.php/normas-corporativas/30-logo-ufro-azul-horizontal/file\" width=\"250\"/>\n",
        "</div>\n",
        "\n",
        "**ICC157 Taller de Programación**\n",
        "\n",
        "Profesor Mg. Juan Lagos O."
      ],
      "metadata": {
        "id": "IkwHKWN2Pz2y"
      }
    },
    {
      "cell_type": "markdown",
      "source": [
        "Para cada uno de los siguientes ejercicios resolver intentando incorporar de manera correcta todo lo visto en el curso hasta el momento.\n"
      ],
      "metadata": {
        "id": "jd2_hPkTP83y"
      }
    },
    {
      "cell_type": "markdown",
      "source": [
        "### Ejercicio 1\n",
        "Ingresar 3 números decimales escribir un algoritmo que imprima el mayor, el menor y el promedio\n",
        "\n"
      ],
      "metadata": {
        "id": "TyEHEPqwoOYk"
      }
    },
    {
      "cell_type": "code",
      "source": [
        "numero1=float(input(\"Ingrese su primer numero \"))\n",
        "numero2=float(input(\"Ingrese su segundo numero \"))\n",
        "numero3=float(input(\"Ingrese su tercer numero \"))\n",
        "\n",
        "if(numero1>numero2 and numero1>numero3):\n",
        "  print(\"El mayor es numero1 y su valor es \",numero1)\n",
        "elif(numero2>numero1 and numero2>numero3):\n",
        "  print(\"El mayor es numero2 y su valor es \",numero2)\n",
        "else:\n",
        "  print(\"El mayor es numero3 y su valor es \",numero3)\n",
        "\n",
        "if(numero1<numero2 and numero1<numero3):\n",
        "  print(\"El menor es numero1 y su valor es \",numero1)\n",
        "elif(numero2<numero1 and numero2<numero3):\n",
        "  print(\"El menor es numero2 y su valor es \",numero2)\n",
        "else:\n",
        "  print(\"El menor es numero3 y su valor es \",numero3)       \n",
        "\n",
        "promedio=(numero1+numero2+numero3)/3\n",
        "print(\"el promedio\",promedio)\n",
        "print(\"el promedio es\",(numero1+numero2+numero3)/3)  "
      ],
      "metadata": {
        "colab": {
          "base_uri": "https://localhost:8080/"
        },
        "id": "FFcbZXwKW_1C",
        "outputId": "5c6d6145-82e5-41d0-b2e3-d5b109b50532"
      },
      "execution_count": 12,
      "outputs": [
        {
          "output_type": "stream",
          "name": "stdout",
          "text": [
            "Ingrese su primer numero 6\n",
            "Ingrese su segundo numero 9\n",
            "Ingrese su tercer numero 10\n",
            "El mayor es numero3 y su valor es  10.0\n",
            "El menor es numero1 y su valor es  6.0\n",
            "el promedio 8.333333333333334\n",
            "el promedio es 8.333333333333334\n"
          ]
        }
      ]
    },
    {
      "cell_type": "markdown",
      "source": [
        "### Ejercicio 2\n",
        "Transforma la distancia recorrida ingresada en kilómetros por el usuario en:\n",
        "a. millas\n",
        "b. pulgadas"
      ],
      "metadata": {
        "id": "Mz5dGs6VoOVy"
      }
    },
    {
      "cell_type": "code",
      "source": [
        "kms=float(input(\"ingrese los kms a convertir \"))\n",
        "millas=kms*0.62\n",
        "pulgada=kms*39370.1\n",
        "print(\"sus kms equivalen a\",millas,\"millas y\",pulgada,\"pulgadas\")"
      ],
      "metadata": {
        "colab": {
          "base_uri": "https://localhost:8080/"
        },
        "id": "KQiphVaddWhs",
        "outputId": "7bae60b1-e560-468a-c9e9-c78a59df8ad4"
      },
      "execution_count": 13,
      "outputs": [
        {
          "output_type": "stream",
          "name": "stdout",
          "text": [
            "ingrese los kms a convertir 1\n",
            "sus kms equivalen a 0.62 millas y 39370.1 pulgadas\n"
          ]
        }
      ]
    },
    {
      "cell_type": "code",
      "source": [
        "kms=float(input(\"ingrese los kms a convertir \"))\n",
        "\n",
        "opcion=int(input(\"ingrese 1 para millas 2 para pulgadas \"))\n",
        "while(opcion<1 or opcion>2):\n",
        "  opcion=int(input(\"ingrese 1 para millas 2 para pulgadas\"))\n",
        "\n",
        "\n",
        "if(opcion == 1):\n",
        "  millas=kms*0.62\n",
        "  print(\"sus kms equivalen a\",millas,\"millas\")\n",
        "if(opcion == 2):\n",
        "  pulgada=kms*39370.1\n",
        "  print(\"sus kms equivalen a\",pulgada,\"pulgadas\")"
      ],
      "metadata": {
        "colab": {
          "base_uri": "https://localhost:8080/"
        },
        "id": "P5ww140LeMh_",
        "outputId": "b5e29d90-6eeb-4775-d1d7-23c57632e6f2"
      },
      "execution_count": 18,
      "outputs": [
        {
          "output_type": "stream",
          "name": "stdout",
          "text": [
            "ingrese los kms a convertir 3\n",
            "ingrese 1 para millas 2 para pulgadas3\n",
            "ingrese 1 para millas 2 para pulgadas3\n",
            "ingrese 1 para millas 2 para pulgadas3\n",
            "ingrese 1 para millas 2 para pulgadas3\n",
            "ingrese 1 para millas 2 para pulgadas3\n",
            "ingrese 1 para millas 2 para pulgadas0\n",
            "ingrese 1 para millas 2 para pulgadas0\n",
            "ingrese 1 para millas 2 para pulgadas1\n",
            "sus kms equivalen a 1.8599999999999999 millas\n"
          ]
        }
      ]
    },
    {
      "cell_type": "markdown",
      "source": [
        "### Ejercicio 3\n",
        "Definir si un número ingresado es par o impar"
      ],
      "metadata": {
        "id": "UDuUHROwoOTG"
      }
    },
    {
      "cell_type": "code",
      "source": [
        "numero=int(input(\"ingrese su numero a evaluar \"))\n",
        "\n",
        "resto=numero%2\n",
        "\n",
        "if(resto == 0):\n",
        "  print(\"su numero es par\")\n",
        "else:\n",
        "  print(\"su numero es impar\")\n"
      ],
      "metadata": {
        "id": "VZqah_IApHos",
        "outputId": "bebc9c9a-6175-4c6c-ff70-1b0059ad94a0",
        "colab": {
          "base_uri": "https://localhost:8080/"
        }
      },
      "execution_count": 19,
      "outputs": [
        {
          "output_type": "stream",
          "name": "stdout",
          "text": [
            "ingrese su numero a evaluar 9\n",
            "su numero es impar\n"
          ]
        }
      ]
    },
    {
      "cell_type": "markdown",
      "source": [
        "### Ejercicio 4\n",
        "Crea un programa que permita calcular el IMC de una persona y entrega el rango (según tabla de referencia) al cual pertenece el usuario segun los datos ingresados.\n",
        "\n",
        "| IMC | Nivel de peso |\n",
        "|------------------|-----------------|\n",
        "| menos de 18.5| Bajo peso|\n",
        "| 18.5 - 24.9| Normal|\n",
        "| 25.0 - 29.9| Sobrepeso|\n",
        "| 30.0 - más| Obeso|"
      ],
      "metadata": {
        "id": "yVxf8k99oONm"
      }
    },
    {
      "cell_type": "code",
      "source": [
        "peso=float(input(\"ingrese su peso en kgs \"))\n",
        "altura=float(input(\"ingrese su altura en mts \"))\n",
        "imc=peso/altura**2\n",
        "\n",
        "print(\"el imc es\",imc)\n",
        "\n",
        "if(imc<18.5):\n",
        "  print(\"bajo peso\")\n",
        "elif(imc>=18.5 and imc<=24.9):\n",
        "  print(\"normal\")\n",
        "elif(imc>=25 and imc<=29.9):\n",
        "  print(\"sobrepeso\")\n",
        "else:\n",
        "  print(\"obeso\")"
      ],
      "metadata": {
        "id": "Lyjfl_pju7NG",
        "outputId": "40d4a8c3-be4d-47bf-fe54-77aada2eead1",
        "colab": {
          "base_uri": "https://localhost:8080/"
        }
      },
      "execution_count": null,
      "outputs": [
        {
          "output_type": "stream",
          "name": "stdout",
          "text": [
            "ingrese su peso en kgs 120\n",
            "ingrese su altura en mts 1.7\n",
            "el imc es 41.52249134948097\n",
            "obeso\n"
          ]
        }
      ]
    },
    {
      "cell_type": "markdown",
      "source": [
        "### Ejercicio 5\n",
        "Realice un algoritmo para calcular la siguiente función de acuerdo al valor x que se\n",
        "ingresa. Se sabe que k = 10.\n",
        "\n",
        "*  f(x) = x-(k/x) cuando x>0\n",
        "*  f(x) = 0 cuando x=0\n",
        "*  f(x) = x+(k/x) cuando x<0"
      ],
      "metadata": {
        "id": "bLFOjKNroOKq"
      }
    },
    {
      "cell_type": "code",
      "source": [
        "x=float(input(\"ingrese su var. independiente \"))\n",
        "k=10\n",
        "\n",
        "if(x>0):\n",
        "  fx=x-(k/x)\n",
        "elif(x==0):\n",
        "  fx=0\n",
        "else:\n",
        "  fx=x+(k/x)  \n",
        "\n",
        "print(\"f(x) =\",fx)"
      ],
      "metadata": {
        "id": "flZ2yC1UpGj9",
        "outputId": "d73a55b0-2f63-4901-8855-b9595a0b24c2",
        "colab": {
          "base_uri": "https://localhost:8080/"
        }
      },
      "execution_count": null,
      "outputs": [
        {
          "output_type": "stream",
          "name": "stdout",
          "text": [
            "ingrese su var. independiente 5\n",
            "f(x) = 3.0\n"
          ]
        }
      ]
    },
    {
      "cell_type": "markdown",
      "source": [
        "### Ejercicio 6\n",
        "Crea un programa que reciba números reales y al final entregue la suma de todos ellos. Finalizar al ingresar 0\n",
        "\n"
      ],
      "metadata": {
        "id": "5Oj2pFmcoOAR"
      }
    },
    {
      "cell_type": "code",
      "source": [
        "numero=float(input(\"ingrese su num \"))\n",
        "acumulador=0\n",
        "\n",
        "while(numero!=0):\n",
        "  acumulador=acumulador+numero\n",
        "  numero=float(input(\"ingrese su num \"))\n",
        "\n",
        "print(\"acumulé \",acumulador)  \n",
        "\n",
        "    "
      ],
      "metadata": {
        "id": "DiPhL__RpGIf",
        "outputId": "b74f9da2-b83c-423b-8be3-fa3dcd535341",
        "colab": {
          "base_uri": "https://localhost:8080/"
        }
      },
      "execution_count": null,
      "outputs": [
        {
          "output_type": "stream",
          "name": "stdout",
          "text": [
            "ingrese su num 7\n",
            "ingrese su num 6\n",
            "ingrese su num 9\n",
            "ingrese su num 210\n",
            "ingrese su num 0\n",
            "acumulé  232.0\n"
          ]
        }
      ]
    }
  ]
}