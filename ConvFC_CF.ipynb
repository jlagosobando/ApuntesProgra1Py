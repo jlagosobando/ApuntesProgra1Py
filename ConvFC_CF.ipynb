{
  "nbformat": 4,
  "nbformat_minor": 0,
  "metadata": {
    "colab": {
      "name": "ConvFC_CF.ipynb",
      "provenance": [],
      "include_colab_link": true
    },
    "kernelspec": {
      "name": "python3",
      "display_name": "Python 3"
    },
    "language_info": {
      "name": "python"
    }
  },
  "cells": [
    {
      "cell_type": "markdown",
      "metadata": {
        "id": "view-in-github",
        "colab_type": "text"
      },
      "source": [
        "<a href=\"https://colab.research.google.com/github/jlagosobando/ApuntesProgra1Py/blob/master/ConvFC_CF.ipynb\" target=\"_parent\"><img src=\"https://colab.research.google.com/assets/colab-badge.svg\" alt=\"Open In Colab\"/></a>"
      ]
    },
    {
      "cell_type": "markdown",
      "metadata": {
        "id": "-9t-MQb7SCwa"
      },
      "source": [
        "Conversor de C° a F°\n"
      ]
    },
    {
      "cell_type": "code",
      "metadata": {
        "id": "DJLCoPe4R6ZJ"
      },
      "source": [
        "# c,f :decimal > float\n",
        "print(\"Escriba los grados Celsius\")\n",
        "c = float(input())\n",
        "f = (c*1.8)+32\n",
        "print(\"La conversión es \",f)"
      ],
      "execution_count": null,
      "outputs": []
    },
    {
      "cell_type": "code",
      "metadata": {
        "colab": {
          "base_uri": "https://localhost:8080/"
        },
        "id": "3HBptU55Vgr7",
        "outputId": "4ca9c7e6-ef3f-48b2-c165-74524e0925ac"
      },
      "source": [
        "# c,f :decimal\n",
        "c = float(input(\"Escriba los grados Celsius \"))\n",
        "f = (c*1.8)+32\n",
        "print(c,\"°C equivalen a\",f,\"F°\")"
      ],
      "execution_count": null,
      "outputs": [
        {
          "output_type": "stream",
          "text": [
            "Escriba los grados Celsius 11\n",
            "11 °C equivalen a 51.8 F°\n"
          ],
          "name": "stdout"
        }
      ]
    },
    {
      "cell_type": "markdown",
      "metadata": {
        "id": "LeKQ1WYNaZvn"
      },
      "source": [
        "Conversor de F° a C°"
      ]
    },
    {
      "cell_type": "code",
      "metadata": {
        "colab": {
          "base_uri": "https://localhost:8080/"
        },
        "id": "bOK-zcpZacu1",
        "outputId": "bf9711c0-1352-4d96-93d0-ac43df08bef8"
      },
      "source": [
        "# c,f :decimal\n",
        "print(\"Escriba los grados Fahrenheit\")\n",
        "f = float(input())\n",
        "c = (f-32)*(5/9)\n",
        "print(f,\"°F equivalen a\",c,\"C°\")"
      ],
      "execution_count": null,
      "outputs": [
        {
          "output_type": "stream",
          "text": [
            "Escriba los grados Fahrenheit\n",
            "50\n",
            "50.0 °F equivalen a 10.0 C°\n"
          ],
          "name": "stdout"
        }
      ]
    }
  ]
}