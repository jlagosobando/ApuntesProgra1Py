{
  "nbformat": 4,
  "nbformat_minor": 0,
  "metadata": {
    "colab": {
      "name": "4_operaciones.ipynb",
      "provenance": [],
      "authorship_tag": "ABX9TyPlyzAk9078LxBGeWqy7HmR",
      "include_colab_link": true
    },
    "kernelspec": {
      "name": "python3",
      "display_name": "Python 3"
    },
    "language_info": {
      "name": "python"
    }
  },
  "cells": [
    {
      "cell_type": "markdown",
      "metadata": {
        "id": "view-in-github",
        "colab_type": "text"
      },
      "source": [
        "<a href=\"https://colab.research.google.com/github/jlagosobando/ApuntesProgra1Py/blob/master/4_operaciones.ipynb\" target=\"_parent\"><img src=\"https://colab.research.google.com/assets/colab-badge.svg\" alt=\"Open In Colab\"/></a>"
      ]
    },
    {
      "cell_type": "markdown",
      "source": [
        "Ejercicio: Para 2 variables realizar las 4 operaciones matemáticas"
      ],
      "metadata": {
        "id": "UsBca1sPgYgg"
      }
    },
    {
      "cell_type": "code",
      "source": [
        "#numero1, numero2, resSuma, resResta, resMult, resDiv : DECIMAL\n",
        "\n",
        "print( \"Ingrese primer numero\")\n",
        "numero1=int(input())\n",
        "print( \"Ingrese segundo numero\")\n",
        "numero2=int(input())\n",
        "\n",
        "resSuma=numero1+numero2\n",
        "resResta=numero1-numero2\n",
        "resMult=numero1*numero2\n",
        "resDiv=numero1/numero2\n",
        "\n",
        "print(\"El resul. de la suma es\", resSuma)\n",
        "print(\"El resul. de la resta es\", resResta)\n",
        "print(\"El resul. de la multiplicación es\", resMult)\n",
        "print(\"El resul. de la división es\", resDiv)"
      ],
      "metadata": {
        "colab": {
          "base_uri": "https://localhost:8080/"
        },
        "id": "K6p6Wj-yDba1",
        "outputId": "4fb3273b-b2b7-4ecf-d4fc-1059e7918d18"
      },
      "execution_count": null,
      "outputs": [
        {
          "output_type": "stream",
          "name": "stdout",
          "text": [
            "Ingrese primer numero\n",
            "3\n",
            "Ingrese segundo numero\n",
            "3\n",
            "El resul. de la suma es 6\n",
            "El resul. de la resta es 0\n",
            "El resul. de la multiplicación es 9\n",
            "El resul. de la división es 1.0\n"
          ]
        }
      ]
    }
  ]
}