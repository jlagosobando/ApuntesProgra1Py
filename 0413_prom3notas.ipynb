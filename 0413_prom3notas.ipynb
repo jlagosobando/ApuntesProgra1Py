{
  "nbformat": 4,
  "nbformat_minor": 0,
  "metadata": {
    "colab": {
      "name": "0413_prom3notas.ipynb",
      "provenance": [],
      "authorship_tag": "ABX9TyM7i8ZtLlIUUReInpvIZYTH",
      "include_colab_link": true
    },
    "kernelspec": {
      "name": "python3",
      "display_name": "Python 3"
    },
    "language_info": {
      "name": "python"
    }
  },
  "cells": [
    {
      "cell_type": "markdown",
      "metadata": {
        "id": "view-in-github",
        "colab_type": "text"
      },
      "source": [
        "<a href=\"https://colab.research.google.com/github/jlagosobando/ApuntesProgra1Py/blob/master/0413_prom3notas.ipynb\" target=\"_parent\"><img src=\"https://colab.research.google.com/assets/colab-badge.svg\" alt=\"Open In Colab\"/></a>"
      ]
    },
    {
      "cell_type": "code",
      "metadata": {
        "id": "Ugx5gnVYs60t"
      },
      "source": [
        "# nota1, nota2, nota3, promedio :decimal\n",
        "# str = string = textos\n",
        "# int = integer = enteros\n",
        "\n",
        "print(\"ingrese su primera nota\")\n",
        "# variable=valor\n",
        "nota1=float(input())\n",
        "\n",
        "print(\"ingrese su segunda nota\")\n",
        "nota2=float(input())\n",
        "\n",
        "print(\"ingrese su tercera nota\")\n",
        "nota3=float(input())\n",
        "\t\n",
        "promedio=(nota1+nota2+nota3)/3\n",
        "\n",
        "print(\"Su promedio es \",promedio)"
      ],
      "execution_count": null,
      "outputs": []
    }
  ]
}