{
  "nbformat": 4,
  "nbformat_minor": 0,
  "metadata": {
    "colab": {
      "name": "Conversor_CF_Menu.ipynb",
      "provenance": [],
      "collapsed_sections": [],
      "authorship_tag": "ABX9TyMpr8POZ+noR7Gri3fHv1de",
      "include_colab_link": true
    },
    "kernelspec": {
      "name": "python3",
      "display_name": "Python 3"
    },
    "language_info": {
      "name": "python"
    }
  },
  "cells": [
    {
      "cell_type": "markdown",
      "metadata": {
        "id": "view-in-github",
        "colab_type": "text"
      },
      "source": [
        "<a href=\"https://colab.research.google.com/github/jlagosobando/ApuntesProgra1Py/blob/master/Conversor_CF_Menu.ipynb\" target=\"_parent\"><img src=\"https://colab.research.google.com/assets/colab-badge.svg\" alt=\"Open In Colab\"/></a>"
      ]
    },
    {
      "cell_type": "code",
      "execution_count": null,
      "metadata": {
        "colab": {
          "base_uri": "https://localhost:8080/"
        },
        "id": "_Ybb6cN1ol1N",
        "outputId": "26be6eba-29b0-4ce1-ff95-7206cdb119cd"
      },
      "outputs": [
        {
          "output_type": "stream",
          "name": "stdout",
          "text": [
            "1) C a F\n",
            "2) F a C\n",
            "Ingreser la opción1\n",
            "Escriba los grados Celsius\n",
            "30\n",
            "La conversión es  86.0\n"
          ]
        }
      ],
      "source": [
        "#  gradosC,gradosF,opcion\n",
        "\n",
        "#No confudir que el ) del numero es solo un texto\n",
        "print(\"1) C a F\")\n",
        "print(\"2) F a C\")\n",
        "\n",
        "#Python nos permite una forma especial añadir una frase a un ingreso por teclado\n",
        "#Con esto nos mezclamos el leer y el escribir asociado a la frase informativa\n",
        "opcion=int(input(\"Ingrese la opción \"))\n",
        "\n",
        "if(opcion==1):\n",
        "  print(\"Escriba los grados Celsius\")\n",
        "  c = float(input())\n",
        "  f = (c*1.8)+32\n",
        "  print(\"La conversión es \",f)\n",
        "else:\n",
        "  print(\"Escriba los grados Fahrenheit\")\n",
        "  f = float(input())\n",
        "  c = (f-32)*(5/9)\n",
        "  print(f,\"°F equivalen a\",c,\"C°\")\n"
      ]
    }
  ]
}