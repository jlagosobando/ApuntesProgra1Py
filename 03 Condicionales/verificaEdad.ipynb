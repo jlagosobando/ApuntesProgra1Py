{
  "nbformat": 4,
  "nbformat_minor": 0,
  "metadata": {
    "colab": {
      "name": "verificaEdad.ipynb",
      "provenance": [],
      "collapsed_sections": [],
      "authorship_tag": "ABX9TyMyPZHx6lMsKMk6Zv9xlumJ",
      "include_colab_link": true
    },
    "kernelspec": {
      "name": "python3",
      "display_name": "Python 3"
    },
    "language_info": {
      "name": "python"
    }
  },
  "cells": [
    {
      "cell_type": "markdown",
      "metadata": {
        "id": "view-in-github",
        "colab_type": "text"
      },
      "source": [
        "<a href=\"https://colab.research.google.com/github/jlagosobando/ApuntesProgra1Py/blob/master/verificaEdad.ipynb\" target=\"_parent\"><img src=\"https://colab.research.google.com/assets/colab-badge.svg\" alt=\"Open In Colab\"/></a>"
      ]
    },
    {
      "cell_type": "code",
      "execution_count": null,
      "metadata": {
        "colab": {
          "base_uri": "https://localhost:8080/"
        },
        "id": "HhQ_pfwAF-5S",
        "outputId": "e0429dce-e228-4ea2-b38b-1405e234d691"
      },
      "outputs": [
        {
          "output_type": "stream",
          "name": "stdout",
          "text": [
            "ingrese la edad de la persona\n",
            "33\n",
            "Puede entrar\n"
          ]
        }
      ],
      "source": [
        "# Edad : entero Res :texto\n",
        "print(\"ingrese la edad de la persona\")\n",
        "Edad=int(input())\n",
        "if(Edad>0):\n",
        "  if(Edad>=18):\n",
        "    Res=\"Puede entrar\"\n",
        "  else:\n",
        "    Res=\"No puede entrar\"\n",
        "else:\n",
        "  Res=\"Edad no valida\"\n",
        "\n",
        "print(Res)\n",
        "    "
      ]
    }
  ]
}