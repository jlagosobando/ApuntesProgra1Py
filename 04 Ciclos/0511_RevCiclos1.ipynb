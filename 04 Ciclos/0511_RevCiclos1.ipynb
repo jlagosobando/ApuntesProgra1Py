{
  "nbformat": 4,
  "nbformat_minor": 0,
  "metadata": {
    "colab": {
      "name": "0511_RevCiclos1.ipynb",
      "provenance": [],
      "authorship_tag": "ABX9TyO/KLfAXWALRinJvWriZ37O",
      "include_colab_link": true
    },
    "kernelspec": {
      "name": "python3",
      "display_name": "Python 3"
    },
    "language_info": {
      "name": "python"
    }
  },
  "cells": [
    {
      "cell_type": "markdown",
      "metadata": {
        "id": "view-in-github",
        "colab_type": "text"
      },
      "source": [
        "<a href=\"https://colab.research.google.com/github/jlagosobando/ApuntesProgra1Py/blob/master/0511_RevCiclos1.ipynb\" target=\"_parent\"><img src=\"https://colab.research.google.com/assets/colab-badge.svg\" alt=\"Open In Colab\"/></a>"
      ]
    },
    {
      "cell_type": "markdown",
      "metadata": {
        "id": "ZyQyKdaUakvS"
      },
      "source": [
        "Ciclos\n"
      ]
    },
    {
      "cell_type": "code",
      "metadata": {
        "id": "Fse-X98canYM"
      },
      "source": [
        "#determinados\n",
        "# PARA > For\n",
        "\n",
        "for i in range(5):\n",
        "  print(\"esto es una vuelta del ciclo\")\n",
        "\n",
        "for i in range(5):\n",
        "  print(\"esto es la vuelta n \",i)\n",
        "\n",
        "for i in range(2,5):\n",
        "  print(\"esto es la vuelta n \",i)\n",
        "\n",
        "for i in range(-2,5):\n",
        "  print(\"esto es la vuelta n \",i)"
      ],
      "execution_count": null,
      "outputs": []
    },
    {
      "cell_type": "code",
      "metadata": {
        "id": "_y-COpfAdFGV"
      },
      "source": [
        "#indeterminados\n",
        "# MIENTRAS > While\n",
        "# mi ciclo trabaja MIENTRAS la condición se cumpla (verdadera)\n",
        "\n",
        "a=116160\n",
        "b=51616\n",
        "\n",
        "#Ciclo Infinito\n",
        "#while(a>b):\n",
        "#  print(\"soy un ciclo y me voy a terminar... NUNCA\")\n",
        "\n",
        "while(a>b):\n",
        "  print(\"soy un ciclo y me voy a terminar... en algún momento\")  \n",
        "  b=b+1\n",
        "  print(\"el b está valiendo \",b)"
      ],
      "execution_count": null,
      "outputs": []
    },
    {
      "cell_type": "code",
      "metadata": {
        "id": "Xo4bsCxwgc0O"
      },
      "source": [
        "#indeterminados\n",
        "# MIENTRAS > While\n",
        "\n",
        "# uso del While como validador\n",
        "\n",
        "# quiero recibir un a desde el usuario, y quiero asegurar que sea positivo\n",
        "\n",
        "a=int(input())\n",
        "\n",
        "while(a<=0):\n",
        "  print(\"ingrese un num positivo\")\n",
        "  a=int(input())\n",
        "\n",
        "print(\"se guardó el valor \",a)"
      ],
      "execution_count": null,
      "outputs": []
    },
    {
      "cell_type": "code",
      "metadata": {
        "id": "njJFXDQjjUc9"
      },
      "source": [
        "#indeterminados\n",
        "# MIENTRAS > While\n",
        "\n",
        "# uso del While como validador\n",
        "\n",
        "# quiero recibir un a desde el usuario, y quiero asegurar que sea positivo\n",
        "#inutil\n",
        "a=0\n",
        "\n",
        "while(a<=0):\n",
        "  print(\"ingrese un num positivo\")\n",
        "  a=int(input())\n",
        "\n",
        "print(\"se guardó el valor \",a)"
      ],
      "execution_count": null,
      "outputs": []
    },
    {
      "cell_type": "code",
      "metadata": {
        "id": "VxSWHmKzjuIx"
      },
      "source": [
        "#indeterminados\n",
        "# MIENTRAS > While\n",
        "\n",
        "# uso del While como validador\n",
        "\n",
        "# quiero recibir un a desde el usuario, y quiero asegurar que sea negativo\n",
        "#inutil\n",
        "a=0\n",
        "\n",
        "while(a>=0):\n",
        "  print(\"ingrese un num negativo\")\n",
        "  a=int(input())\n",
        "\n",
        "print(\"se guardó el valor \",a)"
      ],
      "execution_count": null,
      "outputs": []
    },
    {
      "cell_type": "markdown",
      "metadata": {
        "id": "vccmqGApkfKy"
      },
      "source": [
        "Aplicación de ciclos en ejercicio"
      ]
    },
    {
      "cell_type": "code",
      "metadata": {
        "id": "Ugx5gnVYs60t"
      },
      "source": [
        "# nota, promedio :decimal\n",
        "\n",
        "promedio=0\n",
        "\n",
        "#vueltas 0,1,2 son las 3 vueltas\n",
        "for i in range(3):\n",
        "  print(\"ingrese su nota\",i+1)\n",
        "  nota=float(input())\n",
        "\n",
        "  #acumulador\t\n",
        "  promedio=promedio+nota\n",
        "\n",
        "#esto está afuera ya que ocurre solo una vez\n",
        "promedio=promedio/3\n",
        "\n",
        "print(\"Su promedio es \",promedio)"
      ],
      "execution_count": null,
      "outputs": []
    },
    {
      "cell_type": "code",
      "metadata": {
        "id": "smPAZxWrm-6t"
      },
      "source": [
        "# nota, promedio :decimal\n",
        "\n",
        "promedio=0\n",
        "\n",
        "#vueltas 0,1,2 son las 3 vueltas\n",
        "for i in range(3):\n",
        "  nota=0\n",
        " \n",
        "  while(nota<1 or nota>7):\n",
        "    print(\"ingrese su nota\",i+1)\n",
        "    nota=float(input())\n",
        "\n",
        "  #acumulador\t\n",
        "  promedio=promedio+nota\n",
        "\n",
        "#esto está afuera ya que ocurre solo una vez\n",
        "promedio=promedio/3\n",
        "\n",
        "print(\"Su promedio es \",promedio)"
      ],
      "execution_count": null,
      "outputs": []
    },
    {
      "cell_type": "code",
      "metadata": {
        "id": "ZGkLyMRoDbE5"
      },
      "source": [
        "# nota, promedio :decimal\n",
        "\n",
        "cantidadNotas=3\n",
        "promedio=0\n",
        "\n",
        "#vueltas 0,1,2 son las 3 vueltas\n",
        "for i in range(cantidadNotas):\n",
        "  print(\"ingrese su nota\",i+1)\n",
        "  nota=float(input())\n",
        " \n",
        "  while(nota<1 or nota>7):\n",
        "    print(\"error! ingrese su nota\",i+1)\n",
        "    nota=float(input())\n",
        "\n",
        "  #acumulador\t\n",
        "  promedio=promedio+nota\n",
        "\n",
        "#esto está afuera ya que ocurre solo una vez\n",
        "promedio=promedio/cantidadNotas\n",
        "\n",
        "print(\"Su promedio es \",promedio)"
      ],
      "execution_count": null,
      "outputs": []
    }
  ]
}