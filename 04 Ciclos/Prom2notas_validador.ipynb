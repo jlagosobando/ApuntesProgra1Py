{
  "nbformat": 4,
  "nbformat_minor": 0,
  "metadata": {
    "colab": {
      "name": "DDF Prom2notas validador",
      "provenance": [],
      "collapsed_sections": [],
      "authorship_tag": "ABX9TyPdlF+xlFAb1wcXsJsemkKX",
      "include_colab_link": true
    },
    "kernelspec": {
      "name": "python3",
      "display_name": "Python 3"
    },
    "language_info": {
      "name": "python"
    }
  },
  "cells": [
    {
      "cell_type": "markdown",
      "metadata": {
        "id": "view-in-github",
        "colab_type": "text"
      },
      "source": [
        "<a href=\"https://colab.research.google.com/github/jlagosobando/ApuntesProgra1Py/blob/master/DDF_Prom2notas_validador.ipynb\" target=\"_parent\"><img src=\"https://colab.research.google.com/assets/colab-badge.svg\" alt=\"Open In Colab\"/></a>"
      ]
    },
    {
      "cell_type": "code",
      "execution_count": null,
      "metadata": {
        "colab": {
          "base_uri": "https://localhost:8080/"
        },
        "id": "aGd_NrSS1Pq-",
        "outputId": "ca699b03-3b42-46fa-de58-72d0f6ea34a5"
      },
      "outputs": [
        {
          "output_type": "stream",
          "name": "stdout",
          "text": [
            "Ingrese su primera nota\n",
            "10\n",
            "Ingrese su primera nota\n",
            "11\n",
            "Ingrese su primera nota\n",
            "13\n",
            "Ingrese su primera nota\n",
            "15\n",
            "Ingrese su primera nota\n",
            "5\n",
            "Ingrese su segunda nota\n",
            "9\n",
            "Ingrese su segunda nota\n",
            "10\n",
            "Ingrese su segunda nota\n",
            "11\n",
            "Ingrese su segunda nota\n",
            "15\n",
            "Ingrese su segunda nota\n",
            "6\n",
            "5.5\n"
          ]
        }
      ],
      "source": [
        "# dec. variables nota1,nota2,promedio : decimales\n",
        "nota1=0\n",
        "nota2=0\n",
        "\n",
        "while(nota1<1 or nota1>7):\n",
        "  print(\"Ingrese su primera nota\")\n",
        "  nota1=float(input())\n",
        "\n",
        "while(nota2<1 or nota2>7):\n",
        "  print(\"Ingrese su segunda nota\")\n",
        "  nota2=float(input())\n",
        "\n",
        "promedio=(nota1+nota2)/2\n",
        "\n",
        "print(promedio)\n"
      ]
    }
  ]
}