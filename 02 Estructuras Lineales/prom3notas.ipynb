{
  "nbformat": 4,
  "nbformat_minor": 0,
  "metadata": {
    "colab": {
      "name": "0413_prom3notas.ipynb",
      "provenance": [],
      "include_colab_link": true
    },
    "kernelspec": {
      "name": "python3",
      "display_name": "Python 3"
    },
    "language_info": {
      "name": "python"
    }
  },
  "cells": [
    {
      "cell_type": "markdown",
      "metadata": {
        "id": "view-in-github",
        "colab_type": "text"
      },
      "source": [
        "<a href=\"https://colab.research.google.com/github/jlagosobando/ApuntesProgra1Py/blob/master/prom3notas.ipynb\" target=\"_parent\"><img src=\"https://colab.research.google.com/assets/colab-badge.svg\" alt=\"Open In Colab\"/></a>"
      ]
    },
    {
      "cell_type": "code",
      "metadata": {
        "id": "Ugx5gnVYs60t",
        "outputId": "1303b6dd-a03a-4d34-92fa-d9db337d9191",
        "colab": {
          "base_uri": "https://localhost:8080/"
        }
      },
      "source": [
        "# nota1, nota2, nota3, promedio :decimal\n",
        "\n",
        "print(\"ingrese primera nota\")\n",
        "nota1=float(input())\n",
        "\n",
        "print(\"ingrese segunda nota\")\n",
        "nota2=float(input())\n",
        "\n",
        "print(\"ingrese tercera nota\")\n",
        "nota3=float(input())\n",
        "\t\n",
        "promedio=(nota1+nota2+nota3)/3\n",
        "\n",
        "print(\"El promedio de las notas es = \",promedio)"
      ],
      "execution_count": 2,
      "outputs": [
        {
          "output_type": "stream",
          "name": "stdout",
          "text": [
            "ingrese primera nota\n",
            "5\n",
            "ingrese segunda nota\n",
            "10\n",
            "ingrese tercera nota\n",
            "-1\n",
            "El promedio de las notas es =  4.666666666666667\n"
          ]
        }
      ]
    }
  ]
}