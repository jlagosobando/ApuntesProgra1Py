{
  "nbformat": 4,
  "nbformat_minor": 0,
  "metadata": {
    "colab": {
      "name": "Intercambiador.ipynb",
      "provenance": [],
      "authorship_tag": "ABX9TyNxo2myxeypcjRxPOr+XYHY",
      "include_colab_link": true
    },
    "kernelspec": {
      "name": "python3",
      "display_name": "Python 3"
    },
    "language_info": {
      "name": "python"
    }
  },
  "cells": [
    {
      "cell_type": "markdown",
      "metadata": {
        "id": "view-in-github",
        "colab_type": "text"
      },
      "source": [
        "<a href=\"https://colab.research.google.com/github/jlagosobando/ApuntesProgra1Py/blob/master/Intercambiador.ipynb\" target=\"_parent\"><img src=\"https://colab.research.google.com/assets/colab-badge.svg\" alt=\"Open In Colab\"/></a>"
      ]
    },
    {
      "cell_type": "markdown",
      "source": [
        "Ejercicio: Intercambiar valores de 2 variables"
      ],
      "metadata": {
        "id": "UsBca1sPgYgg"
      }
    },
    {
      "cell_type": "code",
      "execution_count": null,
      "metadata": {
        "id": "FC-nyzylYtW5",
        "colab": {
          "base_uri": "https://localhost:8080/"
        },
        "outputId": "4fbf3bdf-a479-4969-e351-8772d1489563"
      },
      "outputs": [
        {
          "output_type": "stream",
          "name": "stdout",
          "text": [
            "Ingrese el primer número\n",
            "10\n",
            "Ingrese el segundo número\n",
            "5.5\n",
            "La var a vale =\n",
            "5.5\n",
            "La var b vale =\n",
            "10\n"
          ]
        }
      ],
      "source": [
        "# a,b,aux : DECIMAL\n",
        "# entrada\n",
        "print(\"Ingrese el primer número\")\n",
        "a=input()\n",
        "print(\"Ingrese el segundo número\")\n",
        "b=input()\n",
        "#proceso\n",
        "aux=a\n",
        "a=b\n",
        "b=aux\n",
        "#salida\t\n",
        "print(\"La var a vale =\")\n",
        "print(a)\n",
        "print(\"La var b vale =\")\n",
        "print(b)"
      ]
    }
  ]
}