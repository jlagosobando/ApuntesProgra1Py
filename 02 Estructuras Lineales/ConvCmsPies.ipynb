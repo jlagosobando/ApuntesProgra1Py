{
  "nbformat": 4,
  "nbformat_minor": 0,
  "metadata": {
    "colab": {
      "name": "ConvCmsPies.ipynb",
      "provenance": [],
      "collapsed_sections": [],
      "authorship_tag": "ABX9TyMS+NnX17G77+9RDSvJmk5W",
      "include_colab_link": true
    },
    "kernelspec": {
      "name": "python3",
      "display_name": "Python 3"
    },
    "language_info": {
      "name": "python"
    }
  },
  "cells": [
    {
      "cell_type": "markdown",
      "metadata": {
        "id": "view-in-github",
        "colab_type": "text"
      },
      "source": [
        "<a href=\"https://colab.research.google.com/github/jlagosobando/ApuntesProgra1Py/blob/master/ConvCmsPies.ipynb\" target=\"_parent\"><img src=\"https://colab.research.google.com/assets/colab-badge.svg\" alt=\"Open In Colab\"/></a>"
      ]
    },
    {
      "cell_type": "code",
      "execution_count": null,
      "metadata": {
        "colab": {
          "base_uri": "https://localhost:8080/"
        },
        "id": "yyQC-nerJoWV",
        "outputId": "3653f6a1-addd-4f8f-8b82-109c60f4378c"
      },
      "outputs": [
        {
          "output_type": "stream",
          "name": "stdout",
          "text": [
            "ingrese los cms que quiere convertir\n",
            "30\n",
            "el resultado de la conv es  0.984251968503937\n"
          ]
        }
      ],
      "source": [
        "#dec. de variables\n",
        "#cms, pies :decimal\n",
        "#entrada\n",
        "print(\"ingrese los cms que quiere convertir\")\n",
        "cms=float(input())\n",
        "#proceso\n",
        "pies = cms/30.48\n",
        "#salida\n",
        "print(\"el resultado de la conv es \", pies)"
      ]
    }
  ]
}