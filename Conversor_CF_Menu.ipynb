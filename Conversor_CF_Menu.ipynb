{
  "nbformat": 4,
  "nbformat_minor": 0,
  "metadata": {
    "colab": {
      "name": "Conversor_CF_Menu.ipynb",
      "provenance": [],
      "collapsed_sections": [],
      "authorship_tag": "ABX9TyPM7gCQrLm3TLC8J2eDgmU5",
      "include_colab_link": true
    },
    "kernelspec": {
      "name": "python3",
      "display_name": "Python 3"
    },
    "language_info": {
      "name": "python"
    }
  },
  "cells": [
    {
      "cell_type": "markdown",
      "metadata": {
        "id": "view-in-github",
        "colab_type": "text"
      },
      "source": [
        "<a href=\"https://colab.research.google.com/github/jlagosobando/ApuntesProgra1Py/blob/master/Conversor_CF_Menu.ipynb\" target=\"_parent\"><img src=\"https://colab.research.google.com/assets/colab-badge.svg\" alt=\"Open In Colab\"/></a>"
      ]
    },
    {
      "cell_type": "code",
      "execution_count": null,
      "metadata": {
        "colab": {
          "base_uri": "https://localhost:8080/"
        },
        "id": "_Ybb6cN1ol1N",
        "outputId": "f39e9086-21cc-4165-afe6-289d81d11612"
      },
      "outputs": [
        {
          "output_type": "stream",
          "name": "stdout",
          "text": [
            "1) C a F\n",
            "2) F a C\n",
            "Ingrese la opción 2\n",
            "Escriba los grados Fahrenheit\n",
            "100\n",
            "100.0 °F equivalen a 37.77777777777778 C°\n"
          ]
        }
      ],
      "source": [
        "#  gradosC,gradosF,opcion\n",
        "\n",
        "#No confudir que el ) del numero es solo un texto\n",
        "print(\"1) C a F\")\n",
        "print(\"2) F a C\")\n",
        "\n",
        "#Python nos permite una forma especial añadir una frase a un ingreso por teclado\n",
        "#Con esto nos mezclamos el leer y el escribir asociado a la frase informativa\n",
        "opcion=int(input(\"Ingrese la opción \"))\n",
        "\n",
        "if(opcion==1):\n",
        "  print(\"Escriba los grados Celsius\")\n",
        "  gradosC = float(input())\n",
        "  gradosF = (gradosC*1.8)+32\n",
        "  print(\"La conversión es \",gradosF)\n",
        "else:\n",
        "  print(\"Escriba los grados Fahrenheit\")\n",
        "  gradosF = float(input())\n",
        "  gradosC = (gradosF-32)*(5/9)\n",
        "  print(gradosF,\"°F equivalen a\",gradosC,\"C°\")\n"
      ]
    }
  ]
}