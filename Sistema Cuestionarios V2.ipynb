{
  "nbformat": 4,
  "nbformat_minor": 0,
  "metadata": {
    "colab": {
      "name": "Untitled0.ipynb",
      "provenance": []
    },
    "kernelspec": {
      "name": "python3",
      "display_name": "Python 3"
    }
  },
  "cells": [
    {
      "cell_type": "markdown",
      "metadata": {
        "id": "XS1Rg86xFNYM",
        "colab_type": "text"
      },
      "source": [
        "Se le pide a tu equipo, prototipar el funcionamiento de un sistema de cuestionarios automatizados, para a futuro, poder desarrollarlo de forma productiva. \n",
        "\n",
        "Ustedes deben hacer el núcleo del sistema, el cual deberá permitir al usuario docente ingresar un número que representa la cantidad de preguntas que tendrá el cuestionario. Para cada una de esas preguntas, se deberán ingresar las respuestas correctas, representadas a nivel visual con las letras A, B o C.\n",
        "\n",
        "Una vez ingresadas las respuestas correctas, el programa deberá ofrecer responder el cuestionario cuantas veces uno quiera, deteniendo el proceso cuando el usuario así lo indique. \n",
        "\n",
        "Para cada ejecución del cuestionario, se deberán responder las preguntas con las alternativas A, B o C. Una vez terminado de responder el cuestionario, se entregará la nota y ofrecerá responderlo de nuevo.\n",
        "\n",
        "Por cada respuesta correcta se sumara un punto. La nota se calculará con un 60% de exigencia para el 4, con nota mínima de 1 y máximo 7."
      ]
    },
    {
      "cell_type": "code",
      "metadata": {
        "id": "J7kQTsFABJky",
        "colab_type": "code",
        "colab": {}
      },
      "source": [
        "cantP=0\n",
        "cuestionario=[] #será matriz\n",
        "continuar=True"
      ],
      "execution_count": null,
      "outputs": []
    },
    {
      "cell_type": "code",
      "metadata": {
        "id": "LqOgFQUx7Ldj",
        "colab_type": "code",
        "colab": {
          "base_uri": "https://localhost:8080/",
          "height": 86
        },
        "outputId": "918f45eb-93c3-4c6a-9c09-5fc3f02ece92"
      },
      "source": [
        "#entrada, cantP determina el largo del cuestionario\n",
        "#cantP tiene un valor inicial de 0 (no nos sirve) para que el while validador pueda trabajar\n",
        "\n",
        "print(\"Modo Docente: Crear el cuestionario\")\n",
        "while cantP<1:\n",
        "    cantP=(int)(input(\"Ingrese cantidad de preguntas para el cuestionario \\n\"))\n",
        "print(\"Complete las \",cantP,\" preguntas con alternativas 'a', 'b' o 'c'\")"
      ],
      "execution_count": null,
      "outputs": [
        {
          "output_type": "stream",
          "text": [
            "Modo Docente: Crear el cuestionario\n",
            "Ingrese cantidad de preguntas para el cuestionario \n",
            "2\n",
            "Complete las  2  preguntas con alternativas 'a', 'b' o 'c'\n"
          ],
          "name": "stdout"
        }
      ]
    },
    {
      "cell_type": "code",
      "metadata": {
        "id": "uFPftqTo8OL3",
        "colab_type": "code",
        "colab": {
          "base_uri": "https://localhost:8080/",
          "height": 363
        },
        "outputId": "07033119-0e49-41d7-9f5b-d6f952c95ef0"
      },
      "source": [
        "#este ciclo rellena el arreglo vacio con la pregunta y su alternativas\n",
        "for i in range(1,cantP+1):\n",
        "  pregunta=[]\n",
        "  preg=(input(\"Ingrese pregunta\"+str(i)+\"\\n\"))\n",
        "  pregunta.append(preg)\n",
        "  altA=(input(\"Ingrese alternativa A\\n\"))\n",
        "  pregunta.append(altA)\n",
        "  altB=(input(\"Ingrese alternativa B\\n\"))\n",
        "  pregunta.append(altB)\n",
        "  altC=(input(\"Ingrese alternativa C\\n\"))\n",
        "  pregunta.append(altC)\n",
        "\n",
        "  res=\"d\"\n",
        "  #este ciclo valida que las respuestas solo sean a b o c, en mayus. o minus.\n",
        "  while res!=\"a\" and res!=\"b\" and res!=\"c\" and res!=\"A\" and res!=\"B\" and res!=\"C\":\n",
        "    res=(input(\"Ingrese respuesta para pregunta \"+str(i)+\"\\n\"))\n",
        "  pregunta.append(res.lower())\n",
        "  cuestionario.append(pregunta)\n"
      ],
      "execution_count": null,
      "outputs": [
        {
          "output_type": "stream",
          "text": [
            "Ingrese pregunta1\n",
            "sangre?\n",
            "Ingrese alternativa A\n",
            "rojo\n",
            "Ingrese alternativa B\n",
            "verde\n",
            "Ingrese alternativa C\n",
            "azul\n",
            "Ingrese respuesta para pregunta 1\n",
            "a\n",
            "Ingrese pregunta2\n",
            "cobre?\n",
            "Ingrese alternativa A\n",
            "verde\n",
            "Ingrese alternativa B\n",
            "azul\n",
            "Ingrese alternativa C\n",
            "naranjo\n",
            "Ingrese respuesta para pregunta 2\n",
            "c\n"
          ],
          "name": "stdout"
        }
      ]
    },
    {
      "cell_type": "code",
      "metadata": {
        "id": "6kAmJhgWb5lp",
        "colab_type": "code",
        "colab": {
          "base_uri": "https://localhost:8080/",
          "height": 52
        },
        "outputId": "cd8748c4-11a8-4479-c60a-9c73ee45e7b2"
      },
      "source": [
        "cuestionario"
      ],
      "execution_count": null,
      "outputs": [
        {
          "output_type": "execute_result",
          "data": {
            "text/plain": [
              "[['sangre?', 'rojo', 'verde', 'azul', 'a'],\n",
              " ['cobre?', 'verde', 'azul', 'naranjo', 'c']]"
            ]
          },
          "metadata": {
            "tags": []
          },
          "execution_count": 10
        }
      ]
    },
    {
      "cell_type": "code",
      "metadata": {
        "id": "Fna8WM2qAwSF",
        "colab_type": "code",
        "colab": {
          "base_uri": "https://localhost:8080/",
          "height": 466
        },
        "outputId": "6ee4bb3a-1351-428d-8e1b-dd17c214dce9"
      },
      "source": [
        "#ciclo que repite el cuestionario mientras continuar sea verdadero\n",
        "while continuar==True:\n",
        "  print(\"Modo Estudiante: Responder el cuestionario \\n\")\n",
        "  #cada cuestionario debe iniciar su puntaje en 0\n",
        "  puntaje=0\n",
        "  #este for dará tantas vueltas como preguntas tengamos\n",
        "  for i in range(1,cantP+1):\n",
        "    print(cuestionario[i-1][0]+\"\\n\")\n",
        "    print(\"A)\"+cuestionario[i-1][1]+\"\\n\")\n",
        "    print(\"B)\"+cuestionario[i-1][2]+\"\\n\")\n",
        "    print(\"C)\"+cuestionario[i-1][3]+\"\\n\")\n",
        "\n",
        "    res=\"d\"\n",
        "    while res!=\"a\" and res!=\"b\" and res!=\"c\" and res!=\"A\" and res!=\"B\" and res!=\"C\":\n",
        "      res=(input(\"Ingrese respuesta para pregunta \"+str(i)+\"\\n\"))\n",
        "    #una vez recibida la res, se compara con lo guardado en el arreglo para sumar o no puntos  \n",
        "    if res.lower()==cuestionario[i-1][4]:\n",
        "      puntaje+=1\n",
        "  #se calcula el puntaje según la exigencia\n",
        "  if puntaje < cantP*0.6:\n",
        "    nota=(4-1)*(puntaje/(cantP*0.6))+1\n",
        "  else:\n",
        "    nota=(7-4)*((puntaje-cantP*0.6)/(cantP*(1-0.6)))+4\n",
        "  #se entrega la nota  \n",
        "  print(\"Su nota es: \",nota)\n",
        "  #se pregunta para saber si repetir o no el cuestionario  \n",
        "  opt=0\n",
        "  while opt!=1 and opt!=2:\n",
        "    opt=(int)(input(\"Ingrese [1] para repetir cuestionario [2] para salir \\n\"))\n",
        "  if opt==1:\n",
        "    continuar=True\n",
        "  else:\n",
        "    continuar=False\n",
        "#una vez fuera del ciclo de los cuestionarios, salimos        \n",
        "print(\"Chao!\")\n",
        "continuar=True"
      ],
      "execution_count": null,
      "outputs": [
        {
          "output_type": "stream",
          "text": [
            "Modo Estudiante: Responder el cuestionario \n",
            "\n",
            "sangre?\n",
            "\n",
            "A)rojo\n",
            "\n",
            "B)verde\n",
            "\n",
            "C)azul\n",
            "\n",
            "Ingrese respuesta para pregunta 1\n",
            "a\n",
            "cobre?\n",
            "\n",
            "A)verde\n",
            "\n",
            "B)azul\n",
            "\n",
            "C)naranjo\n",
            "\n",
            "Ingrese respuesta para pregunta 2\n",
            "a\n",
            "Su nota es:  3.5\n",
            "Ingrese [1] para repetir cuestionario [2] para salir \n",
            "2\n",
            "Chao!\n"
          ],
          "name": "stdout"
        }
      ]
    }
  ]
}