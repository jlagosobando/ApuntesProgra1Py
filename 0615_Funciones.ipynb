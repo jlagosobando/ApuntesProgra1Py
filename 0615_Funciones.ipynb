{
  "nbformat": 4,
  "nbformat_minor": 0,
  "metadata": {
    "colab": {
      "name": "0615_Funciones.ipynb",
      "provenance": [],
      "authorship_tag": "ABX9TyPY/ecr84ie1+b1f59tQQ3U",
      "include_colab_link": true
    },
    "kernelspec": {
      "name": "python3",
      "display_name": "Python 3"
    },
    "language_info": {
      "name": "python"
    }
  },
  "cells": [
    {
      "cell_type": "markdown",
      "metadata": {
        "id": "view-in-github",
        "colab_type": "text"
      },
      "source": [
        "<a href=\"https://colab.research.google.com/github/jlagosobando/ApuntesProgra1Py/blob/master/0615_Funciones.ipynb\" target=\"_parent\"><img src=\"https://colab.research.google.com/assets/colab-badge.svg\" alt=\"Open In Colab\"/></a>"
      ]
    },
    {
      "cell_type": "code",
      "metadata": {
        "id": "u1f-gFZYeSYh"
      },
      "source": [
        "#Ejercicios iniciales de funciones\n",
        "\n",
        "#funciones sin parametros y sin retorno\n",
        "#e:una frase p:mostrar el saludo s:el mensaje\n",
        "def Saludar():\n",
        "  print(\"Hola, soy una función\")\n",
        "\n",
        "#funciones con parametros y sin retorno\n",
        "#e:un nombre por parametro p:mostrar el saludo s: el mensaje\n",
        "def Saludar2(nombre):\n",
        "  print(\"Hola, mi nombre es\",nombre)\n",
        "\n",
        "#funciones con parametros y con retorno\n",
        "def Saludar3(nombre):\n",
        "  frase=\"Hello, my name is \"+nombre  \n",
        "  return frase\n",
        "\n",
        "#e:2 nums por parametro p:sumar los 2 nums s: retornar la suma \n",
        "def Sumar(a,b):\n",
        "  resultado=a+b\n",
        "  return resultado"
      ],
      "execution_count": 1,
      "outputs": []
    },
    {
      "cell_type": "code",
      "metadata": {
        "colab": {
          "base_uri": "https://localhost:8080/"
        },
        "id": "8bQ7lLU3hm7p",
        "outputId": "bb19482c-7475-48fd-e219-89daf944f6f1"
      },
      "source": [
        "Saludar()\n",
        "Saludar2(\"Ben\")\n",
        "\n",
        "resSuma=Sumar(60,40)\n",
        "mensaje=Saludar3(\"Ben\")\n",
        "\n",
        "resSuma=Sumar(Sumar(5,6),Sumar(3,6))\n",
        "\n",
        "print(mensaje)\n",
        "print(resSuma)"
      ],
      "execution_count": 2,
      "outputs": [
        {
          "output_type": "stream",
          "text": [
            "Hola, soy una función\n",
            "Hola, mi nombre es Ben\n",
            "Hello, my name is Ben\n",
            "20\n"
          ],
          "name": "stdout"
        }
      ]
    },
    {
      "cell_type": "code",
      "metadata": {
        "id": "4AFFO77hmx65"
      },
      "source": [
        "def ingresoNotaValida():\n",
        "  nota=0\n",
        "  while (nota<1 or nota>7):\n",
        "    print(\"ingrese un valor entre 1 y 7\")\n",
        "    try:\n",
        "      nota=float(input())\n",
        "    except:\n",
        "      print(\"por favor ingrese un valor adecuado\")\n",
        "  return nota"
      ],
      "execution_count": 3,
      "outputs": []
    },
    {
      "cell_type": "code",
      "metadata": {
        "colab": {
          "base_uri": "https://localhost:8080/"
        },
        "id": "5gIcJPQkmyvp",
        "outputId": "fcd0b4fb-ccd2-4e42-c25e-8caa7d4ab138"
      },
      "source": [
        "print(\"ingrese su primera nota\")\n",
        "nota1=ingresoNotaValida()\n",
        "print(\"ingrese su segunda nota\")\n",
        "nota2=ingresoNotaValida()\n",
        "print(\"ingrese su tercera nota\")\n",
        "nota3=ingresoNotaValida()\n",
        "\n",
        "promedio=(nota1+nota2+nota3)/3\n",
        "\n",
        "print(\"Su promedio es \",promedio)"
      ],
      "execution_count": 4,
      "outputs": [
        {
          "output_type": "stream",
          "text": [
            "ingrese su primera nota\n",
            "ingrese un valor entre 1 y 7\n",
            "4\n",
            "ingrese su segunda nota\n",
            "ingrese un valor entre 1 y 7\n",
            "5\n",
            "ingrese su tercera nota\n",
            "ingrese un valor entre 1 y 7\n",
            "6\n",
            "Su promedio es  5.0\n"
          ],
          "name": "stdout"
        }
      ]
    },
    {
      "cell_type": "code",
      "metadata": {
        "id": "ct21mt05q9qk"
      },
      "source": [
        "def ingresoNotaValida2(numero):\n",
        "  nota=0\n",
        "  while (nota<1 or nota>7):\n",
        "    try:\n",
        "      print(\"Ingrese su nota n\",numero)\n",
        "      nota=float(input())\n",
        "    except:\n",
        "      print(\"por favor ingrese un valor adecuado\")\n",
        "  return nota"
      ],
      "execution_count": 5,
      "outputs": []
    },
    {
      "cell_type": "code",
      "metadata": {
        "colab": {
          "base_uri": "https://localhost:8080/"
        },
        "id": "qpn1cHcaq94_",
        "outputId": "e52545f1-a7f2-4a79-e709-30e3490a4141"
      },
      "source": [
        "promedio=0\n",
        "for i in range(1,4):\n",
        "  nota=ingresoNotaValida2(i)\n",
        "  promedio=promedio+nota\n",
        "promedio=promedio/3\n",
        "print(promedio)"
      ],
      "execution_count": 6,
      "outputs": [
        {
          "output_type": "stream",
          "text": [
            "Ingrese su nota n 1\n",
            "4\n",
            "Ingrese su nota n 2\n",
            "5\n",
            "Ingrese su nota n 3\n",
            "6\n",
            "5.0\n"
          ],
          "name": "stdout"
        }
      ]
    },
    {
      "cell_type": "code",
      "metadata": {
        "id": "hzaqi_jm0v2U"
      },
      "source": [
        "def sumatoria(numero):\n",
        "  return numero**2\n"
      ],
      "execution_count": 7,
      "outputs": []
    },
    {
      "cell_type": "code",
      "metadata": {
        "colab": {
          "base_uri": "https://localhost:8080/"
        },
        "id": "lEUHFD9FsdoC",
        "outputId": "34c8606d-c6cf-464c-93cc-b6a03074d2d3"
      },
      "source": [
        "a=sumatoria(sumatoria(sumatoria(sumatoria(sumatoria(sumatoria(sumatoria(sumatoria(sumatoria(sumatoria(sumatoria(sumatoria(sumatoria(2)))))))))))))\n",
        "print(a)"
      ],
      "execution_count": 8,
      "outputs": [
        {
          "output_type": "stream",
          "text": [
            "1090748135619415929462984244733782862448264161996232692431832786189721331849119295216264234525201987223957291796157025273109870820177184063610979765077554799078906298842192989538609825228048205159696851613591638196771886542609324560121290553901886301017900252535799917200010079600026535836800905297805880952350501630195475653911005312364560014847426035293551245843928918752768696279344088055617515694349945406677825140814900616105920256438504578013326493565836047242407382442812245131517757519164899226365743722432277368075027627883045206501792761700945699168497257879683851737049996900961120515655050115561271491492515342105748966629547032786321505730828430221664970324396138635251626409516168005427623435996308921691446181187406395310665404885739434832877428167407495370993511868756359970390117021823616749458620969857006263612082706715408157066575137281027022310927564910276759160520878304632411049364568754920967322982459184763427383790272448438018526977764941072715611580434690827459339991961414242741410599117426060556483763756314527611362658628383368621157993638020878537675545336789915694234433955666315070087213535470255670312004130725495834508357439653828936077080978550578912967907352780054935621561090795845172954115972927479877527738560008204118558930004777748727761853813510493840581861598652211605960308356405941821189714037868726219481498727603653616298856174822413033485438785324024751419417183012281078209729303537372804574372095228703622776363945290869806258422355148507571039619387449629866808188769662815778153079393179093143648340761738581819563002994422790754955061288818308430079648693232179158765918035565216157115402992120276155607873107937477466841528362987708699450152031231862594203085693838944657061346236704234026821102958954951197087076546186622796294536451620756509351018906023773821539532776208676978589731966330308893304665169436185078350641568336944530051437491311298834367265238595404904273455928723949525227184617404367854754610474377019768025576605881038077270707717942221977090385438585844095492116099852538903974655703943973086090930596963360767529964938414598185705963754561497355827813623833288906309004288017321424808663962671333528009232758350873059614118723781422101460198615747386855096896089189180441339558524822867541113212638793675567650340362970031930023397828465318547238244232028015189689660418822976000815437610652254270163595650875433851147123214227266605403581781469090806576468950587661997186505665475715792896\n"
          ],
          "name": "stdout"
        }
      ]
    }
  ]
}